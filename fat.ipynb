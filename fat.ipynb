{
 "cells": [
  {
   "cell_type": "code",
   "execution_count": 1,
   "id": "a0b87690-47bb-4e41-941c-943d5bb76610",
   "metadata": {},
   "outputs": [
    {
     "name": "stdout",
     "output_type": "stream",
     "text": [
      "Path found\n",
      "[(0, 0), (1, 0), (2, 0), (2, 1), (2, 2), (3, 2), (3, 3)]\n"
     ]
    }
   ],
   "source": [
    "def solve_maze(maze,start,end):\n",
    "    stack=[(start,[start])]\n",
    "    visited=set()\n",
    "\n",
    "    while stack:\n",
    "        (x,y),path=stack.pop()\n",
    "        if (x,y)==end:\n",
    "            return path\n",
    "        visited.add((x,y))\n",
    "\n",
    "        for dx,dy in [(0,1),(1,0),(0,-1),(-1,0)]:\n",
    "            nx,ny=x+dx,y+dy\n",
    "            if 0<=nx<len(maze) and 0<=ny<len(maze[0]):\n",
    "                if maze[nx][ny]==0 and (nx,ny)not in visited:\n",
    "                    stack.append(((nx,ny),path+[(nx,ny)]))\n",
    "    return None\n",
    "maze=[\n",
    "    [0,1,0,0],\n",
    "    [0,1,0,1],\n",
    "    [0,0,0,1],\n",
    "    [1,1,0,0]\n",
    "]\n",
    "start=(0,0)\n",
    "end=(3,3)\n",
    "path=solve_maze(maze,start,end)\n",
    "\n",
    "if path:\n",
    "    print(\"Path found\")\n",
    "    print(path)\n",
    "else:\n",
    "    print(\"Path not found\")"
   ]
  },
  {
   "cell_type": "code",
   "execution_count": 2,
   "id": "c5bd67f4-c9a3-4011-a2fa-33375fc6e0c5",
   "metadata": {},
   "outputs": [
    {
     "name": "stdout",
     "output_type": "stream",
     "text": [
      "\n",
      "  |   |  \n",
      "---------\n",
      "  |   |  \n",
      "---------\n",
      "  |   |  \n",
      "---------\n"
     ]
    },
    {
     "name": "stdin",
     "output_type": "stream",
     "text": [
      "Player X, enter row (0, 1, 2):  0\n",
      "Player X, enter column (0, 1, 2):  0\n"
     ]
    },
    {
     "name": "stdout",
     "output_type": "stream",
     "text": [
      "\n",
      "X |   |  \n",
      "---------\n",
      "  |   |  \n",
      "---------\n",
      "  |   |  \n",
      "---------\n"
     ]
    },
    {
     "name": "stdin",
     "output_type": "stream",
     "text": [
      "Player O, enter row (0, 1, 2):  1\n",
      "Player O, enter column (0, 1, 2):  1\n"
     ]
    },
    {
     "name": "stdout",
     "output_type": "stream",
     "text": [
      "\n",
      "X |   |  \n",
      "---------\n",
      "  | O |  \n",
      "---------\n",
      "  |   |  \n",
      "---------\n"
     ]
    },
    {
     "name": "stdin",
     "output_type": "stream",
     "text": [
      "Player X, enter row (0, 1, 2):  2\n",
      "Player X, enter column (0, 1, 2):  2\n"
     ]
    },
    {
     "name": "stdout",
     "output_type": "stream",
     "text": [
      "\n",
      "X |   |  \n",
      "---------\n",
      "  | O |  \n",
      "---------\n",
      "  |   | X\n",
      "---------\n"
     ]
    },
    {
     "name": "stdin",
     "output_type": "stream",
     "text": [
      "Player O, enter row (0, 1, 2):  2\n",
      "Player O, enter column (0, 1, 2):  1\n"
     ]
    },
    {
     "name": "stdout",
     "output_type": "stream",
     "text": [
      "\n",
      "X |   |  \n",
      "---------\n",
      "  | O |  \n",
      "---------\n",
      "  | O | X\n",
      "---------\n"
     ]
    },
    {
     "name": "stdin",
     "output_type": "stream",
     "text": [
      "Player X, enter row (0, 1, 2):  0\n",
      "Player X, enter column (0, 1, 2):  1\n"
     ]
    },
    {
     "name": "stdout",
     "output_type": "stream",
     "text": [
      "\n",
      "X | X |  \n",
      "---------\n",
      "  | O |  \n",
      "---------\n",
      "  | O | X\n",
      "---------\n"
     ]
    },
    {
     "name": "stdin",
     "output_type": "stream",
     "text": [
      "Player O, enter row (0, 1, 2):  1\n",
      "Player O, enter column (0, 1, 2):  2\n"
     ]
    },
    {
     "name": "stdout",
     "output_type": "stream",
     "text": [
      "\n",
      "X | X |  \n",
      "---------\n",
      "  | O | O\n",
      "---------\n",
      "  | O | X\n",
      "---------\n"
     ]
    },
    {
     "name": "stdin",
     "output_type": "stream",
     "text": [
      "Player X, enter row (0, 1, 2):  1\n",
      "Player X, enter column (0, 1, 2):  0\n"
     ]
    },
    {
     "name": "stdout",
     "output_type": "stream",
     "text": [
      "\n",
      "X | X |  \n",
      "---------\n",
      "X | O | O\n",
      "---------\n",
      "  | O | X\n",
      "---------\n"
     ]
    },
    {
     "name": "stdin",
     "output_type": "stream",
     "text": [
      "Player O, enter row (0, 1, 2):  2\n",
      "Player O, enter column (0, 1, 2):  0\n"
     ]
    },
    {
     "name": "stdout",
     "output_type": "stream",
     "text": [
      "\n",
      "X | X |  \n",
      "---------\n",
      "X | O | O\n",
      "---------\n",
      "O | O | X\n",
      "---------\n"
     ]
    },
    {
     "name": "stdin",
     "output_type": "stream",
     "text": [
      "Player X, enter row (0, 1, 2):  0\n",
      "Player X, enter column (0, 1, 2):  1\n"
     ]
    },
    {
     "name": "stdout",
     "output_type": "stream",
     "text": [
      "Invalid move, try again.\n",
      "\n",
      "X | X |  \n",
      "---------\n",
      "X | O | O\n",
      "---------\n",
      "O | O | X\n",
      "---------\n"
     ]
    },
    {
     "name": "stdin",
     "output_type": "stream",
     "text": [
      "Player X, enter row (0, 1, 2):  0\n",
      "Player X, enter column (0, 1, 2):  2\n"
     ]
    },
    {
     "name": "stdout",
     "output_type": "stream",
     "text": [
      "\n",
      "X | X | X\n",
      "---------\n",
      "X | O | O\n",
      "---------\n",
      "O | O | X\n",
      "---------\n",
      "🎉 Player X wins!\n"
     ]
    }
   ],
   "source": [
    "def print_board(board):\n",
    "    print()\n",
    "    for row in board:\n",
    "        print(\" | \".join(row))\n",
    "        print(\"-\" * 9)\n",
    "\n",
    "def check_winner(board, player):\n",
    "    # Check rows, columns, and diagonals\n",
    "    for row in board:\n",
    "        if all(cell == player for cell in row):\n",
    "            return True\n",
    "    for col in range(3):\n",
    "        if all(board[row][col] == player for row in range(3)):\n",
    "            return True\n",
    "    if all(board[i][i] == player for i in range(3)):\n",
    "        return True\n",
    "    if all(board[i][2 - i] == player for i in range(3)):\n",
    "        return True\n",
    "    return False\n",
    "\n",
    "def is_draw(board):\n",
    "    return all(cell != \" \" for row in board for cell in row)\n",
    "\n",
    "def play_game():\n",
    "    board = [[\" \" for _ in range(3)] for _ in range(3)]\n",
    "    current_player = \"X\"\n",
    "\n",
    "    while True:\n",
    "        print_board(board)\n",
    "        try:\n",
    "            row = int(input(f\"Player {current_player}, enter row (0, 1, 2): \"))\n",
    "            col = int(input(f\"Player {current_player}, enter column (0, 1, 2): \"))\n",
    "        except ValueError:\n",
    "            print(\"Please enter a valid number!\")\n",
    "            continue\n",
    "\n",
    "        if 0 <= row <= 2 and 0 <= col <= 2 and board[row][col] == \" \":\n",
    "            board[row][col] = current_player\n",
    "        else:\n",
    "            print(\"Invalid move, try again.\")\n",
    "            continue\n",
    "\n",
    "        if check_winner(board, current_player):\n",
    "            print_board(board)\n",
    "            print(f\"🎉 Player {current_player} wins!\")\n",
    "            break\n",
    "        elif is_draw(board):\n",
    "            print_board(board)\n",
    "            print(\"It's a draw!\")\n",
    "            break\n",
    "\n",
    "        current_player = \"O\" if current_player == \"X\" else \"X\"\n",
    "\n",
    "play_game()"
   ]
  },
  {
   "cell_type": "code",
   "execution_count": null,
   "id": "6dfc6036-886e-4ddc-8f21-860e4cee8e72",
   "metadata": {},
   "outputs": [],
   "source": [
    "import nltk\n",
    "nltk.download()"
   ]
  },
  {
   "cell_type": "code",
   "execution_count": null,
   "id": "f9f7b478-77b3-40ed-857b-2d661a0c7110",
   "metadata": {},
   "outputs": [],
   "source": [
    "import os\n",
    "import nltk\n",
    "import nltk.corpus\n",
    "print(os.listdir(nltk.data.find(\"corpora\")))"
   ]
  },
  {
   "cell_type": "code",
   "execution_count": null,
   "id": "c14c89d8-ad04-4b45-824f-46ca33fb9423",
   "metadata": {},
   "outputs": [],
   "source": [
    "from nltk.corpus import brown\n",
    "brown.words()"
   ]
  },
  {
   "cell_type": "code",
   "execution_count": null,
   "id": "2bb48071-25df-4514-80c8-b5efa801d47d",
   "metadata": {},
   "outputs": [],
   "source": [
    "from nltk.corpus import stopwords\n",
    "stopwords.words('english')"
   ]
  },
  {
   "cell_type": "code",
   "execution_count": null,
   "id": "60acc919-b8b8-4725-b784-8fe711a6e28f",
   "metadata": {},
   "outputs": [],
   "source": [
    "nltk.download('gutenberg')"
   ]
  },
  {
   "cell_type": "code",
   "execution_count": null,
   "id": "92e0a78f-8b5c-4d16-86b9-9dd237289830",
   "metadata": {},
   "outputs": [],
   "source": [
    "from nltk.corpus import gutenberg\n",
    "print(gutenberg.fileids())"
   ]
  },
  {
   "cell_type": "code",
   "execution_count": null,
   "id": "c9a0b281-b377-40ec-8acf-208fdcd4612b",
   "metadata": {},
   "outputs": [],
   "source": [
    "sample_text = gutenberg.words('shakespeare-hamlet.txt')\n",
    "print(sample_text)"
   ]
  },
  {
   "cell_type": "code",
   "execution_count": null,
   "id": "c2c2093b-7681-49c7-86a2-0b2543bdcc79",
   "metadata": {},
   "outputs": [],
   "source": [
    "for word in sample_text[:500]:\n",
    "  print(word,sep=\"\",end=\" \")"
   ]
  },
  {
   "cell_type": "code",
   "execution_count": null,
   "id": "17a98473-0fd1-47ef-8766-2e83c473cc8a",
   "metadata": {},
   "outputs": [],
   "source": [
    "paragraph=\"\"\"Artificial Intelligence (AI) refers to the broader concept of machines being able to carry out tasks in a way that we would consider smart. AI is an umbrella term for any technique that enables computers to mimic human intelligence, including reasoning, problem-solving, understanding language, and perception. It can be rule-based, like expert systems, or learning-based. Applications of AI range from virtual assistants like Siri and Alexa to autonomous vehicles and advanced robotics. The goal of AI is to build systems that can perform tasks that typically require human intelligence.\n",
    "\n",
    "Machine Learning (ML) is a subset of AI that focuses on building systems that learn from data and improve over time without being explicitly programmed. Instead of writing detailed instructions for every task, ML algorithms use patterns in data to make predictions or decisions. ML is used in recommendation systems like Netflix or Amazon, fraud detection, image recognition, and more. It includes various types like supervised learning, unsupervised learning, and reinforcement learning.\n",
    "\n",
    "Deep Learning (DL) is a further subset of ML that uses neural networks with many layers, hence the term deep. These networks are particularly powerful for working with large amounts of unstructured data such as images, audio, and text. Deep learning has driven many recent AI breakthroughs, including advanced voice recognition, real-time language translation, and self-driving cars. Techniques like convolutional neural networks for image processing and recurrent neural networks for sequential data are common in deep learning.\n",
    " \"\"\"\n",
    "paragraph"
   ]
  },
  {
   "cell_type": "code",
   "execution_count": null,
   "id": "a0d2e56d-4f87-408e-ab78-ae86d4d7c9f5",
   "metadata": {},
   "outputs": [],
   "source": [
    "type(paragraph)"
   ]
  },
  {
   "cell_type": "code",
   "execution_count": null,
   "id": "b15172de-c152-4974-8c13-a464f55776b7",
   "metadata": {},
   "outputs": [],
   "source": [
    "from nltk.tokenize import word_tokenize\n",
    "nltk.download('punkt')"
   ]
  },
  {
   "cell_type": "code",
   "execution_count": null,
   "id": "6e0a16b8-092b-42d4-a9fc-883f43a4a6c6",
   "metadata": {},
   "outputs": [],
   "source": [
    "tokens=word_tokenize(paragraph)\n",
    "tokens"
   ]
  },
  {
   "cell_type": "code",
   "execution_count": null,
   "id": "560fc5ee-3c58-40b3-9818-92eab230abc9",
   "metadata": {},
   "outputs": [],
   "source": [
    "len(tokens)"
   ]
  },
  {
   "cell_type": "code",
   "execution_count": null,
   "id": "3e9e8470-349d-4e8a-aed7-6c4932c30c6b",
   "metadata": {},
   "outputs": [],
   "source": [
    "from nltk.probability import FreqDist\n",
    "fdist=FreqDist()\n",
    "for word in tokens:\n",
    "  fdist[word.lower()]+=1\n",
    "fdist"
   ]
  },
  {
   "cell_type": "code",
   "execution_count": null,
   "id": "6fd98863-77f5-44e8-887a-612a4f0d1ed5",
   "metadata": {},
   "outputs": [],
   "source": [
    "fdist['ai']"
   ]
  },
  {
   "cell_type": "code",
   "execution_count": null,
   "id": "ebd7d497-f7c2-4690-a55f-4cff6a515668",
   "metadata": {},
   "outputs": [],
   "source": [
    "len(fdist)"
   ]
  },
  {
   "cell_type": "code",
   "execution_count": null,
   "id": "a0e650a5-13b0-4ef5-919d-1e4fbd38d002",
   "metadata": {},
   "outputs": [],
   "source": [
    "fdist.most_common(10)"
   ]
  },
  {
   "cell_type": "code",
   "execution_count": null,
   "id": "767c2cce-3025-4e8c-8e35-4d659957fa48",
   "metadata": {},
   "outputs": [],
   "source": [
    "from nltk.tokenize import blankline_tokenize\n",
    "ai_blank=blankline_tokenize(paragraph)\n",
    "len(ai_blank)"
   ]
  },
  {
   "cell_type": "code",
   "execution_count": null,
   "id": "fe64f603-2623-4042-bcd4-6e8c481b83b2",
   "metadata": {},
   "outputs": [],
   "source": [
    "ai_blank"
   ]
  },
  {
   "cell_type": "code",
   "execution_count": null,
   "id": "3eafabec-a836-4329-9f9d-6c0714e4fad6",
   "metadata": {},
   "outputs": [],
   "source": [
    "from nltk.util import bigrams,trigrams,ngrams\n",
    "quotes_bigrams=list(nltk.bigrams(tokens))\n",
    "quotes_bigrams"
   ]
  },
  {
   "cell_type": "code",
   "execution_count": null,
   "id": "67617e9b-b00b-4445-b6e8-359b27f3f9bf",
   "metadata": {},
   "outputs": [],
   "source": [
    "quotes_bigrams=list(nltk.trigrams(tokens))\n",
    "quotes_bigrams"
   ]
  },
  {
   "cell_type": "code",
   "execution_count": null,
   "id": "264e35f3-20f1-4c62-bf88-f1da31b7732f",
   "metadata": {},
   "outputs": [],
   "source": [
    "quotes_bigrams=list(nltk.ngrams(tokens,5))\n",
    "quotes_bigrams"
   ]
  },
  {
   "cell_type": "code",
   "execution_count": null,
   "id": "484137ab-5c12-4ad0-8571-4bb8722f597d",
   "metadata": {},
   "outputs": [],
   "source": [
    "#stemming:\n",
    "from nltk.stem import PorterStemmer\n",
    "pst=PorterStemmer()\n",
    "pst.stem(\"having\")"
   ]
  },
  {
   "cell_type": "code",
   "execution_count": null,
   "id": "530d8be4-6244-4941-87bc-221ce46b6d80",
   "metadata": {},
   "outputs": [],
   "source": [
    "words_to_stem=[\"give\" , \"given\",\"gave\",\"giving\"]\n",
    "for words in words_to_stem:\n",
    "  print(words+\":\"+pst.stem(words))"
   ]
  },
  {
   "cell_type": "code",
   "execution_count": null,
   "id": "ae88d0be-ffce-4340-ac7a-d8424d938b92",
   "metadata": {},
   "outputs": [],
   "source": [
    "#LancasterStemmer (least prefered):\n",
    "from nltk.stem import LancasterStemmer\n",
    "lst=LancasterStemmer()\n",
    "for words in words_to_stem:\n",
    "  print(words+\":\"+lst.stem(words))"
   ]
  },
  {
   "cell_type": "code",
   "execution_count": null,
   "id": "06171974-6174-42ee-af91-2d4ae01dd58f",
   "metadata": {},
   "outputs": [],
   "source": [
    "from nltk.stem import SnowballStemmer\n",
    "sbst=SnowballStemmer('english')\n",
    "for words in words_to_stem:\n",
    "  print(words+\":\"+sbst.stem(words))"
   ]
  },
  {
   "cell_type": "code",
   "execution_count": null,
   "id": "9c779e3e-c207-4c06-9f73-f7d6d9d20b52",
   "metadata": {},
   "outputs": [],
   "source": [
    "##Lemmatization:\n",
    "nltk.download('wordnet')"
   ]
  },
  {
   "cell_type": "code",
   "execution_count": null,
   "id": "ce4ad6e8-1aa1-49b8-9339-ac77b256c4bc",
   "metadata": {},
   "outputs": [],
   "source": [
    "from nltk.stem import wordnet\n",
    "from nltk.stem import WordNetLemmatizer\n",
    "lemmatizer=WordNetLemmatizer()\n",
    "lemmatizer.lemmatize(\"corpora\")"
   ]
  },
  {
   "cell_type": "code",
   "execution_count": null,
   "id": "15834213-5dd4-4bab-94c0-1b4126015820",
   "metadata": {},
   "outputs": [],
   "source": [
    "#stopwords:\n",
    "from nltk.corpus import stopwords\n",
    "stopwords.words('english')"
   ]
  },
  {
   "cell_type": "code",
   "execution_count": null,
   "id": "2e1d6942-458a-48d8-b26a-cec46962a1f8",
   "metadata": {},
   "outputs": [],
   "source": [
    "len(stopwords.words('english'))"
   ]
  },
  {
   "cell_type": "code",
   "execution_count": null,
   "id": "f234ae91-1c92-4124-a5af-c55d7b47e1bc",
   "metadata": {},
   "outputs": [],
   "source": [
    "#punctuations:\n",
    "import re\n",
    "punctuation=re.compile (r'[-.?!,:;()|0-9]')\n",
    "post_punctuation=[]\n",
    "for words in tokens:\n",
    "  word=punctuation.sub(\"\",words)\n",
    "  if len(word)>0:\n",
    "    post_punctuation.append(word)\n",
    "post_punctuation"
   ]
  },
  {
   "cell_type": "code",
   "execution_count": null,
   "id": "75b66358-80f0-4737-8ab3-1139daa01b86",
   "metadata": {},
   "outputs": [],
   "source": [
    "#Parts of speech:\n",
    "sent=\"Robert is a goog boy like me.\"\n",
    "sent_tokens=word_tokenize(sent)\n",
    "for token in sent_tokens:\n",
    "  print(nltk.pos_tag([token]))"
   ]
  },
  {
   "cell_type": "code",
   "execution_count": null,
   "id": "b5476ef4-bebb-4a04-8486-cdb9d27080fc",
   "metadata": {},
   "outputs": [],
   "source": [
    "#chunking:\n",
    "\n",
    "nltk.download('maxent_ne_chunker')"
   ]
  },
  {
   "cell_type": "code",
   "execution_count": null,
   "id": "db1e0587-b9a2-4dce-bb79-ece83259f002",
   "metadata": {},
   "outputs": [],
   "source": [
    "nltk.download('words')"
   ]
  },
  {
   "cell_type": "code",
   "execution_count": null,
   "id": "79fbaa42-b1c7-4db0-8157-8efec774f533",
   "metadata": {},
   "outputs": [],
   "source": [
    "from nltk import ne_chunk\n",
    "NE_sent=\"Mr.Narendra Modi is the Prime Minister of India\"\n",
    "NE_sent_tokens=word_tokenize(NE_sent)\n",
    "NE_tags=nltk.pos_tag(NE_sent_tokens)\n",
    "NE_NER=ne_chunk(NE_tags)\n",
    "print(NE_NER)"
   ]
  }
 ],
 "metadata": {
  "kernelspec": {
   "display_name": "Python 3 (ipykernel)",
   "language": "python",
   "name": "python3"
  },
  "language_info": {
   "codemirror_mode": {
    "name": "ipython",
    "version": 3
   },
   "file_extension": ".py",
   "mimetype": "text/x-python",
   "name": "python",
   "nbconvert_exporter": "python",
   "pygments_lexer": "ipython3",
   "version": "3.9.6"
  }
 },
 "nbformat": 4,
 "nbformat_minor": 5
}
