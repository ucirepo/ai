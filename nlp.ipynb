{
 "cells": [
  {
   "cell_type": "code",
   "execution_count": 1,
   "metadata": {
    "id": "3ODUoNDn924o"
   },
   "outputs": [],
   "source": [
    "import nltk"
   ]
  },
  {
   "cell_type": "code",
   "execution_count": 2,
   "metadata": {
    "colab": {
     "base_uri": "https://localhost:8080/"
    },
    "id": "ZnSnLO7c9oYT",
    "outputId": "9f184bb9-03f2-4778-a934-7d9de4fc97f8"
   },
   "outputs": [
    {
     "name": "stdout",
     "output_type": "stream",
     "text": [
      "NLTK Downloader\n",
      "---------------------------------------------------------------------------\n",
      "    d) Download   l) List    u) Update   c) Config   h) Help   q) Quit\n",
      "---------------------------------------------------------------------------\n",
      "Downloader> all\n",
      "Command 'all' unrecognized\n",
      "\n",
      "---------------------------------------------------------------------------\n",
      "    d) Download   l) List    u) Update   c) Config   h) Help   q) Quit\n",
      "---------------------------------------------------------------------------\n",
      "Downloader> d\n",
      "\n",
      "Download which package (l=list; x=cancel)?\n",
      "  Identifier> all\n"
     ]
    },
    {
     "name": "stderr",
     "output_type": "stream",
     "text": [
      "    Downloading collection 'all'\n",
      "       | \n",
      "       | Downloading package abc to /root/nltk_data...\n",
      "       |   Unzipping corpora/abc.zip.\n",
      "       | Downloading package alpino to /root/nltk_data...\n",
      "       |   Unzipping corpora/alpino.zip.\n",
      "       | Downloading package averaged_perceptron_tagger to\n",
      "       |     /root/nltk_data...\n",
      "       |   Unzipping taggers/averaged_perceptron_tagger.zip.\n",
      "       | Downloading package averaged_perceptron_tagger_eng to\n",
      "       |     /root/nltk_data...\n",
      "       |   Unzipping taggers/averaged_perceptron_tagger_eng.zip.\n",
      "       | Downloading package averaged_perceptron_tagger_ru to\n",
      "       |     /root/nltk_data...\n",
      "       |   Unzipping taggers/averaged_perceptron_tagger_ru.zip.\n",
      "       | Downloading package averaged_perceptron_tagger_rus to\n",
      "       |     /root/nltk_data...\n",
      "       |   Unzipping taggers/averaged_perceptron_tagger_rus.zip.\n",
      "       | Downloading package basque_grammars to /root/nltk_data...\n",
      "       |   Unzipping grammars/basque_grammars.zip.\n",
      "       | Downloading package bcp47 to /root/nltk_data...\n",
      "       | Downloading package biocreative_ppi to /root/nltk_data...\n",
      "       |   Unzipping corpora/biocreative_ppi.zip.\n",
      "       | Downloading package bllip_wsj_no_aux to /root/nltk_data...\n",
      "       |   Unzipping models/bllip_wsj_no_aux.zip.\n",
      "       | Downloading package book_grammars to /root/nltk_data...\n",
      "       |   Unzipping grammars/book_grammars.zip.\n",
      "       | Downloading package brown to /root/nltk_data...\n",
      "       |   Unzipping corpora/brown.zip.\n",
      "       | Downloading package brown_tei to /root/nltk_data...\n",
      "       |   Unzipping corpora/brown_tei.zip.\n",
      "       | Downloading package cess_cat to /root/nltk_data...\n",
      "       |   Unzipping corpora/cess_cat.zip.\n",
      "       | Downloading package cess_esp to /root/nltk_data...\n",
      "       |   Unzipping corpora/cess_esp.zip.\n",
      "       | Downloading package chat80 to /root/nltk_data...\n",
      "       |   Unzipping corpora/chat80.zip.\n",
      "       | Downloading package city_database to /root/nltk_data...\n",
      "       |   Unzipping corpora/city_database.zip.\n",
      "       | Downloading package cmudict to /root/nltk_data...\n",
      "       |   Unzipping corpora/cmudict.zip.\n",
      "       | Downloading package comparative_sentences to\n",
      "       |     /root/nltk_data...\n",
      "       |   Unzipping corpora/comparative_sentences.zip.\n",
      "       | Downloading package comtrans to /root/nltk_data...\n",
      "       | Downloading package conll2000 to /root/nltk_data...\n",
      "       |   Unzipping corpora/conll2000.zip.\n",
      "       | Downloading package conll2002 to /root/nltk_data...\n",
      "       |   Unzipping corpora/conll2002.zip.\n",
      "       | Downloading package conll2007 to /root/nltk_data...\n",
      "       | Downloading package crubadan to /root/nltk_data...\n",
      "       |   Unzipping corpora/crubadan.zip.\n",
      "       | Downloading package dependency_treebank to /root/nltk_data...\n",
      "       |   Unzipping corpora/dependency_treebank.zip.\n",
      "       | Downloading package dolch to /root/nltk_data...\n",
      "       |   Unzipping corpora/dolch.zip.\n",
      "       | Downloading package english_wordnet to /root/nltk_data...\n",
      "       |   Unzipping corpora/english_wordnet.zip.\n",
      "       | Downloading package europarl_raw to /root/nltk_data...\n",
      "       |   Unzipping corpora/europarl_raw.zip.\n",
      "       | Downloading package extended_omw to /root/nltk_data...\n",
      "       | Downloading package floresta to /root/nltk_data...\n",
      "       |   Unzipping corpora/floresta.zip.\n",
      "       | Downloading package framenet_v15 to /root/nltk_data...\n",
      "       |   Unzipping corpora/framenet_v15.zip.\n",
      "       | Downloading package framenet_v17 to /root/nltk_data...\n",
      "       |   Unzipping corpora/framenet_v17.zip.\n",
      "       | Downloading package gazetteers to /root/nltk_data...\n",
      "       |   Unzipping corpora/gazetteers.zip.\n",
      "       | Downloading package genesis to /root/nltk_data...\n",
      "       |   Unzipping corpora/genesis.zip.\n",
      "       | Downloading package gutenberg to /root/nltk_data...\n",
      "       |   Unzipping corpora/gutenberg.zip.\n",
      "       | Downloading package ieer to /root/nltk_data...\n",
      "       |   Unzipping corpora/ieer.zip.\n",
      "       | Downloading package inaugural to /root/nltk_data...\n",
      "       |   Unzipping corpora/inaugural.zip.\n",
      "       | Downloading package indian to /root/nltk_data...\n",
      "       |   Unzipping corpora/indian.zip.\n",
      "       | Downloading package jeita to /root/nltk_data...\n",
      "       | Downloading package kimmo to /root/nltk_data...\n",
      "       |   Unzipping corpora/kimmo.zip.\n",
      "       | Downloading package knbc to /root/nltk_data...\n",
      "       | Downloading package large_grammars to /root/nltk_data...\n",
      "       |   Unzipping grammars/large_grammars.zip.\n",
      "       | Downloading package lin_thesaurus to /root/nltk_data...\n",
      "       |   Unzipping corpora/lin_thesaurus.zip.\n",
      "       | Downloading package mac_morpho to /root/nltk_data...\n",
      "       |   Unzipping corpora/mac_morpho.zip.\n",
      "       | Downloading package machado to /root/nltk_data...\n",
      "       | Downloading package masc_tagged to /root/nltk_data...\n",
      "       | Downloading package maxent_ne_chunker to /root/nltk_data...\n",
      "       |   Unzipping chunkers/maxent_ne_chunker.zip.\n",
      "       | Downloading package maxent_ne_chunker_tab to\n",
      "       |     /root/nltk_data...\n",
      "       |   Unzipping chunkers/maxent_ne_chunker_tab.zip.\n",
      "       | Downloading package maxent_treebank_pos_tagger to\n",
      "       |     /root/nltk_data...\n",
      "       |   Unzipping taggers/maxent_treebank_pos_tagger.zip.\n",
      "       | Downloading package maxent_treebank_pos_tagger_tab to\n",
      "       |     /root/nltk_data...\n",
      "       |   Unzipping taggers/maxent_treebank_pos_tagger_tab.zip.\n",
      "       | Downloading package moses_sample to /root/nltk_data...\n",
      "       |   Unzipping models/moses_sample.zip.\n",
      "       | Downloading package movie_reviews to /root/nltk_data...\n",
      "       |   Unzipping corpora/movie_reviews.zip.\n",
      "       | Downloading package mte_teip5 to /root/nltk_data...\n",
      "       |   Unzipping corpora/mte_teip5.zip.\n",
      "       | Downloading package mwa_ppdb to /root/nltk_data...\n",
      "       |   Unzipping misc/mwa_ppdb.zip.\n",
      "       | Downloading package names to /root/nltk_data...\n",
      "       |   Unzipping corpora/names.zip.\n",
      "       | Downloading package nombank.1.0 to /root/nltk_data...\n",
      "       | Downloading package nonbreaking_prefixes to\n",
      "       |     /root/nltk_data...\n",
      "       |   Unzipping corpora/nonbreaking_prefixes.zip.\n",
      "       | Downloading package nps_chat to /root/nltk_data...\n",
      "       |   Unzipping corpora/nps_chat.zip.\n",
      "       | Downloading package omw to /root/nltk_data...\n",
      "       | Downloading package omw-1.4 to /root/nltk_data...\n",
      "       | Downloading package opinion_lexicon to /root/nltk_data...\n",
      "       |   Unzipping corpora/opinion_lexicon.zip.\n",
      "       | Downloading package panlex_swadesh to /root/nltk_data...\n",
      "       | Downloading package paradigms to /root/nltk_data...\n",
      "       |   Unzipping corpora/paradigms.zip.\n",
      "       | Downloading package pe08 to /root/nltk_data...\n",
      "       |   Unzipping corpora/pe08.zip.\n",
      "       | Downloading package perluniprops to /root/nltk_data...\n",
      "       |   Unzipping misc/perluniprops.zip.\n",
      "       | Downloading package pil to /root/nltk_data...\n",
      "       |   Unzipping corpora/pil.zip.\n",
      "       | Downloading package pl196x to /root/nltk_data...\n",
      "       |   Unzipping corpora/pl196x.zip.\n",
      "       | Downloading package porter_test to /root/nltk_data...\n",
      "       |   Unzipping stemmers/porter_test.zip.\n",
      "       | Downloading package ppattach to /root/nltk_data...\n",
      "       |   Unzipping corpora/ppattach.zip.\n",
      "       | Downloading package problem_reports to /root/nltk_data...\n",
      "       |   Unzipping corpora/problem_reports.zip.\n",
      "       | Downloading package product_reviews_1 to /root/nltk_data...\n",
      "       |   Unzipping corpora/product_reviews_1.zip.\n",
      "       | Downloading package product_reviews_2 to /root/nltk_data...\n",
      "       |   Unzipping corpora/product_reviews_2.zip.\n",
      "       | Downloading package propbank to /root/nltk_data...\n",
      "       | Downloading package pros_cons to /root/nltk_data...\n",
      "       |   Unzipping corpora/pros_cons.zip.\n",
      "       | Downloading package ptb to /root/nltk_data...\n",
      "       |   Unzipping corpora/ptb.zip.\n",
      "       | Downloading package punkt to /root/nltk_data...\n",
      "       |   Unzipping tokenizers/punkt.zip.\n",
      "       | Downloading package punkt_tab to /root/nltk_data...\n",
      "       |   Unzipping tokenizers/punkt_tab.zip.\n",
      "       | Downloading package qc to /root/nltk_data...\n",
      "       |   Unzipping corpora/qc.zip.\n",
      "       | Downloading package reuters to /root/nltk_data...\n",
      "       | Downloading package rslp to /root/nltk_data...\n",
      "       |   Unzipping stemmers/rslp.zip.\n",
      "       | Downloading package rte to /root/nltk_data...\n",
      "       |   Unzipping corpora/rte.zip.\n",
      "       | Downloading package sample_grammars to /root/nltk_data...\n",
      "       |   Unzipping grammars/sample_grammars.zip.\n",
      "       | Downloading package semcor to /root/nltk_data...\n",
      "       | Downloading package senseval to /root/nltk_data...\n",
      "       |   Unzipping corpora/senseval.zip.\n",
      "       | Downloading package sentence_polarity to /root/nltk_data...\n",
      "       |   Unzipping corpora/sentence_polarity.zip.\n",
      "       | Downloading package sentiwordnet to /root/nltk_data...\n",
      "       |   Unzipping corpora/sentiwordnet.zip.\n",
      "       | Downloading package shakespeare to /root/nltk_data...\n",
      "       |   Unzipping corpora/shakespeare.zip.\n",
      "       | Downloading package sinica_treebank to /root/nltk_data...\n",
      "       |   Unzipping corpora/sinica_treebank.zip.\n",
      "       | Downloading package smultron to /root/nltk_data...\n",
      "       |   Unzipping corpora/smultron.zip.\n",
      "       | Downloading package snowball_data to /root/nltk_data...\n",
      "       | Downloading package spanish_grammars to /root/nltk_data...\n",
      "       |   Unzipping grammars/spanish_grammars.zip.\n",
      "       | Downloading package state_union to /root/nltk_data...\n",
      "       |   Unzipping corpora/state_union.zip.\n",
      "       | Downloading package stopwords to /root/nltk_data...\n",
      "       |   Unzipping corpora/stopwords.zip.\n",
      "       | Downloading package subjectivity to /root/nltk_data...\n",
      "       |   Unzipping corpora/subjectivity.zip.\n",
      "       | Downloading package swadesh to /root/nltk_data...\n",
      "       |   Unzipping corpora/swadesh.zip.\n",
      "       | Downloading package switchboard to /root/nltk_data...\n",
      "       |   Unzipping corpora/switchboard.zip.\n",
      "       | Downloading package tagsets to /root/nltk_data...\n",
      "       |   Unzipping help/tagsets.zip.\n",
      "       | Downloading package tagsets_json to /root/nltk_data...\n",
      "       |   Unzipping help/tagsets_json.zip.\n",
      "       | Downloading package timit to /root/nltk_data...\n",
      "       |   Unzipping corpora/timit.zip.\n",
      "       | Downloading package toolbox to /root/nltk_data...\n",
      "       |   Unzipping corpora/toolbox.zip.\n",
      "       | Downloading package treebank to /root/nltk_data...\n",
      "       |   Unzipping corpora/treebank.zip.\n",
      "       | Downloading package twitter_samples to /root/nltk_data...\n",
      "       |   Unzipping corpora/twitter_samples.zip.\n",
      "       | Downloading package udhr to /root/nltk_data...\n",
      "       |   Unzipping corpora/udhr.zip.\n",
      "       | Downloading package udhr2 to /root/nltk_data...\n",
      "       |   Unzipping corpora/udhr2.zip.\n",
      "       | Downloading package unicode_samples to /root/nltk_data...\n",
      "       |   Unzipping corpora/unicode_samples.zip.\n",
      "       | Downloading package universal_tagset to /root/nltk_data...\n",
      "       |   Unzipping taggers/universal_tagset.zip.\n",
      "       | Downloading package universal_treebanks_v20 to\n",
      "       |     /root/nltk_data...\n",
      "       | Downloading package vader_lexicon to /root/nltk_data...\n",
      "       | Downloading package verbnet to /root/nltk_data...\n",
      "       |   Unzipping corpora/verbnet.zip.\n",
      "       | Downloading package verbnet3 to /root/nltk_data...\n",
      "       |   Unzipping corpora/verbnet3.zip.\n",
      "       | Downloading package webtext to /root/nltk_data...\n",
      "       |   Unzipping corpora/webtext.zip.\n",
      "       | Downloading package wmt15_eval to /root/nltk_data...\n",
      "       |   Unzipping models/wmt15_eval.zip.\n",
      "       | Downloading package word2vec_sample to /root/nltk_data...\n",
      "       |   Unzipping models/word2vec_sample.zip.\n",
      "       | Downloading package wordnet to /root/nltk_data...\n",
      "       | Downloading package wordnet2021 to /root/nltk_data...\n",
      "       | Downloading package wordnet2022 to /root/nltk_data...\n",
      "       |   Unzipping corpora/wordnet2022.zip.\n",
      "       | Downloading package wordnet31 to /root/nltk_data...\n",
      "       | Downloading package wordnet_ic to /root/nltk_data...\n",
      "       |   Unzipping corpora/wordnet_ic.zip.\n",
      "       | Downloading package words to /root/nltk_data...\n",
      "       |   Unzipping corpora/words.zip.\n",
      "       | Downloading package ycoe to /root/nltk_data...\n",
      "       |   Unzipping corpora/ycoe.zip.\n",
      "       | \n",
      "     Done downloading collection all\n"
     ]
    },
    {
     "name": "stdout",
     "output_type": "stream",
     "text": [
      "\n",
      "---------------------------------------------------------------------------\n",
      "    d) Download   l) List    u) Update   c) Config   h) Help   q) Quit\n",
      "---------------------------------------------------------------------------\n",
      "Downloader> q\n"
     ]
    },
    {
     "data": {
      "text/plain": [
       "True"
      ]
     },
     "execution_count": 2,
     "metadata": {},
     "output_type": "execute_result"
    }
   ],
   "source": [
    "nltk.download()"
   ]
  },
  {
   "cell_type": "code",
   "execution_count": 3,
   "metadata": {
    "id": "29EHDaaZ9zvw"
   },
   "outputs": [],
   "source": [
    "import os\n",
    "import nltk\n",
    "import nltk.corpus"
   ]
  },
  {
   "cell_type": "code",
   "execution_count": 4,
   "metadata": {
    "colab": {
     "base_uri": "https://localhost:8080/"
    },
    "id": "WsnzBen5DUTl",
    "outputId": "00c25836-7c20-4cec-e9c6-8bb0ade4fd6f"
   },
   "outputs": [
    {
     "name": "stdout",
     "output_type": "stream",
     "text": [
      "['cess_esp', 'qc.zip', 'abc', 'propbank.zip', 'europarl_raw.zip', 'ppattach', 'city_database', 'inaugural', 'framenet_v15.zip', 'pil.zip', 'abc.zip', 'cess_esp.zip', 'senseval', 'sinica_treebank.zip', 'wordnet_ic.zip', 'product_reviews_1.zip', 'dolch', 'pil', 'ptb.zip', 'wordnet_ic', 'product_reviews_2', 'mte_teip5', 'twitter_samples.zip', 'webtext.zip', 'product_reviews_1', 'sentence_polarity', 'movie_reviews', 'jeita.zip', 'knbc.zip', 'city_database.zip', 'opinion_lexicon.zip', 'semcor.zip', 'toolbox.zip', 'nonbreaking_prefixes.zip', 'words.zip', 'crubadan.zip', 'alpino.zip', 'inaugural.zip', 'rte', 'verbnet', 'subjectivity', 'wordnet31.zip', 'stopwords.zip', 'problem_reports', 'shakespeare', 'udhr', 'brown.zip', 'unicode_samples.zip', 'sentiwordnet.zip', 'twitter_samples', 'sinica_treebank', 'gazetteers.zip', 'wordnet2021.zip', 'qc', 'gazetteers', 'indian', 'conll2000', 'pe08', 'subjectivity.zip', 'ycoe', 'conll2007.zip', 'names.zip', 'brown_tei.zip', 'english_wordnet.zip', 'omw.zip', 'wordnet.zip', 'mte_teip5.zip', 'switchboard.zip', 'switchboard', 'smultron.zip', 'sentence_polarity.zip', 'lin_thesaurus.zip', 'nombank.1.0.zip', 'universal_treebanks_v20.zip', 'reuters.zip', 'mac_morpho', 'extended_omw.zip', 'toolbox', 'dependency_treebank.zip', 'pros_cons', 'pros_cons.zip', 'shakespeare.zip', 'gutenberg.zip', 'words', 'ppattach.zip', 'nps_chat', 'genesis.zip', 'kimmo.zip', 'kimmo', 'udhr.zip', 'treebank', 'stopwords', 'swadesh.zip', 'conll2000.zip', 'dolch.zip', 'conll2002', 'treebank.zip', 'framenet_v15', 'english_wordnet', 'brown_tei', 'conll2002.zip', 'rte.zip', 'timit.zip', 'bcp47.zip', 'biocreative_ppi', 'europarl_raw', 'movie_reviews.zip', 'timit', 'cess_cat', 'state_union.zip', 'unicode_samples', 'genesis', 'paradigms.zip', 'verbnet3', 'dependency_treebank', 'cess_cat.zip', 'panlex_swadesh.zip', 'lin_thesaurus', 'indian.zip', 'floresta', 'comparative_sentences.zip', 'crubadan', 'chat80', 'omw-1.4.zip', 'sentiwordnet', 'cmudict', 'senseval.zip', 'pl196x', 'wordnet2022', 'mac_morpho.zip', 'alpino', 'ycoe.zip', 'floresta.zip', 'comparative_sentences', 'pl196x.zip', 'framenet_v17', 'brown', 'ptb', 'verbnet.zip', 'smultron', 'problem_reports.zip', 'state_union', 'product_reviews_2.zip', 'wordnet2022.zip', 'udhr2.zip', 'framenet_v17.zip', 'nonbreaking_prefixes', 'masc_tagged.zip', 'comtrans.zip', 'ieer.zip', 'ieer', 'verbnet3.zip', 'gutenberg', 'opinion_lexicon', 'pe08.zip', 'chat80.zip', 'paradigms', 'udhr2', 'biocreative_ppi.zip', 'machado.zip', 'webtext', 'nps_chat.zip', 'swadesh', 'names', 'cmudict.zip']\n"
     ]
    }
   ],
   "source": [
    "print(os.listdir(nltk.data.find(\"corpora\")))"
   ]
  },
  {
   "cell_type": "code",
   "execution_count": 5,
   "metadata": {
    "id": "iWGGuMtrDksL"
   },
   "outputs": [],
   "source": [
    "from nltk.corpus import brown"
   ]
  },
  {
   "cell_type": "code",
   "execution_count": 6,
   "metadata": {
    "colab": {
     "base_uri": "https://localhost:8080/"
    },
    "id": "u9s4FfN8DwoZ",
    "outputId": "6df60e94-98b7-4d81-f517-0725c4f9515e"
   },
   "outputs": [
    {
     "data": {
      "text/plain": [
       "['The', 'Fulton', 'County', 'Grand', 'Jury', 'said', ...]"
      ]
     },
     "execution_count": 6,
     "metadata": {},
     "output_type": "execute_result"
    }
   ],
   "source": [
    "brown.words()"
   ]
  },
  {
   "cell_type": "code",
   "execution_count": 7,
   "metadata": {
    "id": "pKjz8pLMDzOv"
   },
   "outputs": [],
   "source": [
    "from nltk.corpus import stopwords"
   ]
  },
  {
   "cell_type": "code",
   "execution_count": 8,
   "metadata": {
    "colab": {
     "base_uri": "https://localhost:8080/"
    },
    "id": "Ogpdf1gPD_ng",
    "outputId": "29a43bcc-d7f3-49e7-f316-f80b15f6e3e3"
   },
   "outputs": [
    {
     "data": {
      "text/plain": [
       "['a',\n",
       " 'about',\n",
       " 'above',\n",
       " 'after',\n",
       " 'again',\n",
       " 'against',\n",
       " 'ain',\n",
       " 'all',\n",
       " 'am',\n",
       " 'an',\n",
       " 'and',\n",
       " 'any',\n",
       " 'are',\n",
       " 'aren',\n",
       " \"aren't\",\n",
       " 'as',\n",
       " 'at',\n",
       " 'be',\n",
       " 'because',\n",
       " 'been',\n",
       " 'before',\n",
       " 'being',\n",
       " 'below',\n",
       " 'between',\n",
       " 'both',\n",
       " 'but',\n",
       " 'by',\n",
       " 'can',\n",
       " 'couldn',\n",
       " \"couldn't\",\n",
       " 'd',\n",
       " 'did',\n",
       " 'didn',\n",
       " \"didn't\",\n",
       " 'do',\n",
       " 'does',\n",
       " 'doesn',\n",
       " \"doesn't\",\n",
       " 'doing',\n",
       " 'don',\n",
       " \"don't\",\n",
       " 'down',\n",
       " 'during',\n",
       " 'each',\n",
       " 'few',\n",
       " 'for',\n",
       " 'from',\n",
       " 'further',\n",
       " 'had',\n",
       " 'hadn',\n",
       " \"hadn't\",\n",
       " 'has',\n",
       " 'hasn',\n",
       " \"hasn't\",\n",
       " 'have',\n",
       " 'haven',\n",
       " \"haven't\",\n",
       " 'having',\n",
       " 'he',\n",
       " \"he'd\",\n",
       " \"he'll\",\n",
       " 'her',\n",
       " 'here',\n",
       " 'hers',\n",
       " 'herself',\n",
       " \"he's\",\n",
       " 'him',\n",
       " 'himself',\n",
       " 'his',\n",
       " 'how',\n",
       " 'i',\n",
       " \"i'd\",\n",
       " 'if',\n",
       " \"i'll\",\n",
       " \"i'm\",\n",
       " 'in',\n",
       " 'into',\n",
       " 'is',\n",
       " 'isn',\n",
       " \"isn't\",\n",
       " 'it',\n",
       " \"it'd\",\n",
       " \"it'll\",\n",
       " \"it's\",\n",
       " 'its',\n",
       " 'itself',\n",
       " \"i've\",\n",
       " 'just',\n",
       " 'll',\n",
       " 'm',\n",
       " 'ma',\n",
       " 'me',\n",
       " 'mightn',\n",
       " \"mightn't\",\n",
       " 'more',\n",
       " 'most',\n",
       " 'mustn',\n",
       " \"mustn't\",\n",
       " 'my',\n",
       " 'myself',\n",
       " 'needn',\n",
       " \"needn't\",\n",
       " 'no',\n",
       " 'nor',\n",
       " 'not',\n",
       " 'now',\n",
       " 'o',\n",
       " 'of',\n",
       " 'off',\n",
       " 'on',\n",
       " 'once',\n",
       " 'only',\n",
       " 'or',\n",
       " 'other',\n",
       " 'our',\n",
       " 'ours',\n",
       " 'ourselves',\n",
       " 'out',\n",
       " 'over',\n",
       " 'own',\n",
       " 're',\n",
       " 's',\n",
       " 'same',\n",
       " 'shan',\n",
       " \"shan't\",\n",
       " 'she',\n",
       " \"she'd\",\n",
       " \"she'll\",\n",
       " \"she's\",\n",
       " 'should',\n",
       " 'shouldn',\n",
       " \"shouldn't\",\n",
       " \"should've\",\n",
       " 'so',\n",
       " 'some',\n",
       " 'such',\n",
       " 't',\n",
       " 'than',\n",
       " 'that',\n",
       " \"that'll\",\n",
       " 'the',\n",
       " 'their',\n",
       " 'theirs',\n",
       " 'them',\n",
       " 'themselves',\n",
       " 'then',\n",
       " 'there',\n",
       " 'these',\n",
       " 'they',\n",
       " \"they'd\",\n",
       " \"they'll\",\n",
       " \"they're\",\n",
       " \"they've\",\n",
       " 'this',\n",
       " 'those',\n",
       " 'through',\n",
       " 'to',\n",
       " 'too',\n",
       " 'under',\n",
       " 'until',\n",
       " 'up',\n",
       " 've',\n",
       " 'very',\n",
       " 'was',\n",
       " 'wasn',\n",
       " \"wasn't\",\n",
       " 'we',\n",
       " \"we'd\",\n",
       " \"we'll\",\n",
       " \"we're\",\n",
       " 'were',\n",
       " 'weren',\n",
       " \"weren't\",\n",
       " \"we've\",\n",
       " 'what',\n",
       " 'when',\n",
       " 'where',\n",
       " 'which',\n",
       " 'while',\n",
       " 'who',\n",
       " 'whom',\n",
       " 'why',\n",
       " 'will',\n",
       " 'with',\n",
       " 'won',\n",
       " \"won't\",\n",
       " 'wouldn',\n",
       " \"wouldn't\",\n",
       " 'y',\n",
       " 'you',\n",
       " \"you'd\",\n",
       " \"you'll\",\n",
       " 'your',\n",
       " \"you're\",\n",
       " 'yours',\n",
       " 'yourself',\n",
       " 'yourselves',\n",
       " \"you've\"]"
      ]
     },
     "execution_count": 8,
     "metadata": {},
     "output_type": "execute_result"
    }
   ],
   "source": [
    "stopwords.words('english')"
   ]
  },
  {
   "cell_type": "code",
   "execution_count": 9,
   "metadata": {
    "colab": {
     "base_uri": "https://localhost:8080/"
    },
    "id": "Z72W7y9PECcW",
    "outputId": "fb18cce8-c639-4aa6-ca45-877bcb7ec9ed"
   },
   "outputs": [
    {
     "name": "stderr",
     "output_type": "stream",
     "text": [
      "[nltk_data] Downloading package gutenberg to /root/nltk_data...\n",
      "[nltk_data]   Package gutenberg is already up-to-date!\n"
     ]
    },
    {
     "data": {
      "text/plain": [
       "True"
      ]
     },
     "execution_count": 9,
     "metadata": {},
     "output_type": "execute_result"
    }
   ],
   "source": [
    "nltk.download('gutenberg')"
   ]
  },
  {
   "cell_type": "code",
   "execution_count": 10,
   "metadata": {
    "colab": {
     "base_uri": "https://localhost:8080/"
    },
    "id": "_FI61Vo7Fd_F",
    "outputId": "490f1889-3042-45fe-9f1d-911985d17a45"
   },
   "outputs": [
    {
     "name": "stdout",
     "output_type": "stream",
     "text": [
      "['austen-emma.txt', 'austen-persuasion.txt', 'austen-sense.txt', 'bible-kjv.txt', 'blake-poems.txt', 'bryant-stories.txt', 'burgess-busterbrown.txt', 'carroll-alice.txt', 'chesterton-ball.txt', 'chesterton-brown.txt', 'chesterton-thursday.txt', 'edgeworth-parents.txt', 'melville-moby_dick.txt', 'milton-paradise.txt', 'shakespeare-caesar.txt', 'shakespeare-hamlet.txt', 'shakespeare-macbeth.txt', 'whitman-leaves.txt']\n"
     ]
    }
   ],
   "source": [
    "from nltk.corpus import gutenberg\n",
    "print(gutenberg.fileids())"
   ]
  },
  {
   "cell_type": "code",
   "execution_count": 11,
   "metadata": {
    "id": "NtBVcFoyFvaU"
   },
   "outputs": [],
   "source": [
    "sample_text = gutenberg.words('shakespeare-hamlet.txt')"
   ]
  },
  {
   "cell_type": "code",
   "execution_count": 12,
   "metadata": {
    "colab": {
     "base_uri": "https://localhost:8080/"
    },
    "id": "bJwlWwOjF5tK",
    "outputId": "8e75431f-ccf0-40fd-97e9-c5e39ff6282c"
   },
   "outputs": [
    {
     "name": "stdout",
     "output_type": "stream",
     "text": [
      "['[', 'The', 'Tragedie', 'of', 'Hamlet', 'by', ...]\n"
     ]
    }
   ],
   "source": [
    "print(sample_text)"
   ]
  },
  {
   "cell_type": "code",
   "execution_count": 13,
   "metadata": {
    "colab": {
     "base_uri": "https://localhost:8080/"
    },
    "id": "F5Jbb38xGWKG",
    "outputId": "97b0395d-0b34-42dc-e619-c80c743d71bf"
   },
   "outputs": [
    {
     "name": "stdout",
     "output_type": "stream",
     "text": [
      "[ The Tragedie of Hamlet by William Shakespeare 1599 ] Actus Primus . Scoena Prima . Enter Barnardo and Francisco two Centinels . Barnardo . Who ' s there ? Fran . Nay answer me : Stand & vnfold your selfe Bar . Long liue the King Fran . Barnardo ? Bar . He Fran . You come most carefully vpon your houre Bar . ' Tis now strook twelue , get thee to bed Francisco Fran . For this releefe much thankes : ' Tis bitter cold , And I am sicke at heart Barn . Haue you had quiet Guard ? Fran . Not a Mouse stirring Barn . Well , goodnight . If you do meet Horatio and Marcellus , the Riuals of my Watch , bid them make hast . Enter Horatio and Marcellus . Fran . I thinke I heare them . Stand : who ' s there ? Hor . Friends to this ground Mar . And Leige - men to the Dane Fran . Giue you good night Mar . O farwel honest Soldier , who hath relieu ' d you ? Fra . Barnardo ha ' s my place : giue you goodnight . Exit Fran . Mar . Holla Barnardo Bar . Say , what is Horatio there ? Hor . A peece of him Bar . Welcome Horatio , welcome good Marcellus Mar . What , ha ' s this thing appear ' d againe to night Bar . I haue seene nothing Mar . Horatio saies , ' tis but our Fantasie , And will not let beleefe take hold of him Touching this dreaded sight , twice seene of vs , Therefore I haue intreated him along With vs , to watch the minutes of this Night , That if againe this Apparition come , He may approue our eyes , and speake to it Hor . Tush , tush , ' twill not appeare Bar . Sit downe a - while , And let vs once againe assaile your eares , That are so fortified against our Story , What we two Nights haue seene Hor . Well , sit we downe , And let vs heare Barnardo speake of this Barn . Last night of all , When yond same Starre that ' s Westward from the Pole Had made his course t ' illume that part of Heauen Where now it burnes , Marcellus and my selfe , The Bell then beating one Mar . Peace , breake thee of : Enter the Ghost . Looke where it comes againe Barn . In the same figure , like the King that ' s dead Mar . Thou art a Scholler ; speake to it Horatio Barn . Lookes it not like the King ? Marke it Horatio Hora . Most like : It harrowes me with fear & wonder Barn . It would be spoke too Mar . Question it Horatio Hor . What art "
     ]
    }
   ],
   "source": [
    "for word in sample_text[:500]:\n",
    "  print(word,sep=\"\",end=\" \")\n"
   ]
  },
  {
   "cell_type": "code",
   "execution_count": 14,
   "metadata": {
    "id": "_eeGuIrrG-Tb"
   },
   "outputs": [],
   "source": [
    "paragraph=\"\"\"Artificial Intelligence (AI) refers to the broader concept of machines being able to carry out tasks in a way that we would consider smart. AI is an umbrella term for any technique that enables computers to mimic human intelligence, including reasoning, problem-solving, understanding language, and perception. It can be rule-based, like expert systems, or learning-based. Applications of AI range from virtual assistants like Siri and Alexa to autonomous vehicles and advanced robotics. The goal of AI is to build systems that can perform tasks that typically require human intelligence.\n",
    "\n",
    "Machine Learning (ML) is a subset of AI that focuses on building systems that learn from data and improve over time without being explicitly programmed. Instead of writing detailed instructions for every task, ML algorithms use patterns in data to make predictions or decisions. ML is used in recommendation systems like Netflix or Amazon, fraud detection, image recognition, and more. It includes various types like supervised learning, unsupervised learning, and reinforcement learning.\n",
    "\n",
    "Deep Learning (DL) is a further subset of ML that uses neural networks with many layers, hence the term deep. These networks are particularly powerful for working with large amounts of unstructured data such as images, audio, and text. Deep learning has driven many recent AI breakthroughs, including advanced voice recognition, real-time language translation, and self-driving cars. Techniques like convolutional neural networks for image processing and recurrent neural networks for sequential data are common in deep learning.\n",
    " \"\"\""
   ]
  },
  {
   "cell_type": "code",
   "execution_count": 15,
   "metadata": {
    "colab": {
     "base_uri": "https://localhost:8080/",
     "height": 244
    },
    "id": "l0ynAIsJHdNs",
    "outputId": "d61e880c-716b-4765-98b5-ecfa4f501eaf"
   },
   "outputs": [
    {
     "data": {
      "application/vnd.google.colaboratory.intrinsic+json": {
       "type": "string"
      },
      "text/plain": [
       "'Artificial Intelligence (AI) refers to the broader concept of machines being able to carry out tasks in a way that we would consider smart. AI is an umbrella term for any technique that enables computers to mimic human intelligence, including reasoning, problem-solving, understanding language, and perception. It can be rule-based, like expert systems, or learning-based. Applications of AI range from virtual assistants like Siri and Alexa to autonomous vehicles and advanced robotics. The goal of AI is to build systems that can perform tasks that typically require human intelligence.\\n\\nMachine Learning (ML) is a subset of AI that focuses on building systems that learn from data and improve over time without being explicitly programmed. Instead of writing detailed instructions for every task, ML algorithms use patterns in data to make predictions or decisions. ML is used in recommendation systems like Netflix or Amazon, fraud detection, image recognition, and more. It includes various types like supervised learning, unsupervised learning, and reinforcement learning.\\n\\nDeep Learning (DL) is a further subset of ML that uses neural networks with many layers, hence the term deep. These networks are particularly powerful for working with large amounts of unstructured data such as images, audio, and text. Deep learning has driven many recent AI breakthroughs, including advanced voice recognition, real-time language translation, and self-driving cars. Techniques like convolutional neural networks for image processing and recurrent neural networks for sequential data are common in deep learning.\\n '"
      ]
     },
     "execution_count": 15,
     "metadata": {},
     "output_type": "execute_result"
    }
   ],
   "source": [
    "paragraph"
   ]
  },
  {
   "cell_type": "code",
   "execution_count": 16,
   "metadata": {
    "colab": {
     "base_uri": "https://localhost:8080/"
    },
    "id": "bmy-T7j2Hed5",
    "outputId": "5dfb0b82-e6ce-4140-d7e1-7ff207364412"
   },
   "outputs": [
    {
     "data": {
      "text/plain": [
       "str"
      ]
     },
     "execution_count": 16,
     "metadata": {},
     "output_type": "execute_result"
    }
   ],
   "source": [
    "type(paragraph)"
   ]
  },
  {
   "cell_type": "code",
   "execution_count": 17,
   "metadata": {
    "id": "kiMkhzyLIHIp"
   },
   "outputs": [],
   "source": [
    "from nltk.tokenize import word_tokenize"
   ]
  },
  {
   "cell_type": "code",
   "execution_count": 18,
   "metadata": {
    "colab": {
     "base_uri": "https://localhost:8080/"
    },
    "id": "5IhG_7OUIfxO",
    "outputId": "eebd4da3-6cd2-45ba-a0f8-7f21fea74161"
   },
   "outputs": [
    {
     "name": "stderr",
     "output_type": "stream",
     "text": [
      "[nltk_data] Downloading package punkt to /root/nltk_data...\n",
      "[nltk_data]   Package punkt is already up-to-date!\n"
     ]
    },
    {
     "data": {
      "text/plain": [
       "True"
      ]
     },
     "execution_count": 18,
     "metadata": {},
     "output_type": "execute_result"
    }
   ],
   "source": [
    "nltk.download('punkt')"
   ]
  },
  {
   "cell_type": "code",
   "execution_count": 19,
   "metadata": {
    "id": "cdOGTNpbInr9"
   },
   "outputs": [],
   "source": [
    "tokens=word_tokenize(paragraph)"
   ]
  },
  {
   "cell_type": "code",
   "execution_count": 20,
   "metadata": {
    "colab": {
     "base_uri": "https://localhost:8080/"
    },
    "id": "B_2mjuniI8ny",
    "outputId": "363fd165-1253-4a36-d54c-3620ddbcb0c6"
   },
   "outputs": [
    {
     "data": {
      "text/plain": [
       "['Artificial',\n",
       " 'Intelligence',\n",
       " '(',\n",
       " 'AI',\n",
       " ')',\n",
       " 'refers',\n",
       " 'to',\n",
       " 'the',\n",
       " 'broader',\n",
       " 'concept',\n",
       " 'of',\n",
       " 'machines',\n",
       " 'being',\n",
       " 'able',\n",
       " 'to',\n",
       " 'carry',\n",
       " 'out',\n",
       " 'tasks',\n",
       " 'in',\n",
       " 'a',\n",
       " 'way',\n",
       " 'that',\n",
       " 'we',\n",
       " 'would',\n",
       " 'consider',\n",
       " 'smart',\n",
       " '.',\n",
       " 'AI',\n",
       " 'is',\n",
       " 'an',\n",
       " 'umbrella',\n",
       " 'term',\n",
       " 'for',\n",
       " 'any',\n",
       " 'technique',\n",
       " 'that',\n",
       " 'enables',\n",
       " 'computers',\n",
       " 'to',\n",
       " 'mimic',\n",
       " 'human',\n",
       " 'intelligence',\n",
       " ',',\n",
       " 'including',\n",
       " 'reasoning',\n",
       " ',',\n",
       " 'problem-solving',\n",
       " ',',\n",
       " 'understanding',\n",
       " 'language',\n",
       " ',',\n",
       " 'and',\n",
       " 'perception',\n",
       " '.',\n",
       " 'It',\n",
       " 'can',\n",
       " 'be',\n",
       " 'rule-based',\n",
       " ',',\n",
       " 'like',\n",
       " 'expert',\n",
       " 'systems',\n",
       " ',',\n",
       " 'or',\n",
       " 'learning-based',\n",
       " '.',\n",
       " 'Applications',\n",
       " 'of',\n",
       " 'AI',\n",
       " 'range',\n",
       " 'from',\n",
       " 'virtual',\n",
       " 'assistants',\n",
       " 'like',\n",
       " 'Siri',\n",
       " 'and',\n",
       " 'Alexa',\n",
       " 'to',\n",
       " 'autonomous',\n",
       " 'vehicles',\n",
       " 'and',\n",
       " 'advanced',\n",
       " 'robotics',\n",
       " '.',\n",
       " 'The',\n",
       " 'goal',\n",
       " 'of',\n",
       " 'AI',\n",
       " 'is',\n",
       " 'to',\n",
       " 'build',\n",
       " 'systems',\n",
       " 'that',\n",
       " 'can',\n",
       " 'perform',\n",
       " 'tasks',\n",
       " 'that',\n",
       " 'typically',\n",
       " 'require',\n",
       " 'human',\n",
       " 'intelligence',\n",
       " '.',\n",
       " 'Machine',\n",
       " 'Learning',\n",
       " '(',\n",
       " 'ML',\n",
       " ')',\n",
       " 'is',\n",
       " 'a',\n",
       " 'subset',\n",
       " 'of',\n",
       " 'AI',\n",
       " 'that',\n",
       " 'focuses',\n",
       " 'on',\n",
       " 'building',\n",
       " 'systems',\n",
       " 'that',\n",
       " 'learn',\n",
       " 'from',\n",
       " 'data',\n",
       " 'and',\n",
       " 'improve',\n",
       " 'over',\n",
       " 'time',\n",
       " 'without',\n",
       " 'being',\n",
       " 'explicitly',\n",
       " 'programmed',\n",
       " '.',\n",
       " 'Instead',\n",
       " 'of',\n",
       " 'writing',\n",
       " 'detailed',\n",
       " 'instructions',\n",
       " 'for',\n",
       " 'every',\n",
       " 'task',\n",
       " ',',\n",
       " 'ML',\n",
       " 'algorithms',\n",
       " 'use',\n",
       " 'patterns',\n",
       " 'in',\n",
       " 'data',\n",
       " 'to',\n",
       " 'make',\n",
       " 'predictions',\n",
       " 'or',\n",
       " 'decisions',\n",
       " '.',\n",
       " 'ML',\n",
       " 'is',\n",
       " 'used',\n",
       " 'in',\n",
       " 'recommendation',\n",
       " 'systems',\n",
       " 'like',\n",
       " 'Netflix',\n",
       " 'or',\n",
       " 'Amazon',\n",
       " ',',\n",
       " 'fraud',\n",
       " 'detection',\n",
       " ',',\n",
       " 'image',\n",
       " 'recognition',\n",
       " ',',\n",
       " 'and',\n",
       " 'more',\n",
       " '.',\n",
       " 'It',\n",
       " 'includes',\n",
       " 'various',\n",
       " 'types',\n",
       " 'like',\n",
       " 'supervised',\n",
       " 'learning',\n",
       " ',',\n",
       " 'unsupervised',\n",
       " 'learning',\n",
       " ',',\n",
       " 'and',\n",
       " 'reinforcement',\n",
       " 'learning',\n",
       " '.',\n",
       " 'Deep',\n",
       " 'Learning',\n",
       " '(',\n",
       " 'DL',\n",
       " ')',\n",
       " 'is',\n",
       " 'a',\n",
       " 'further',\n",
       " 'subset',\n",
       " 'of',\n",
       " 'ML',\n",
       " 'that',\n",
       " 'uses',\n",
       " 'neural',\n",
       " 'networks',\n",
       " 'with',\n",
       " 'many',\n",
       " 'layers',\n",
       " ',',\n",
       " 'hence',\n",
       " 'the',\n",
       " 'term',\n",
       " 'deep',\n",
       " '.',\n",
       " 'These',\n",
       " 'networks',\n",
       " 'are',\n",
       " 'particularly',\n",
       " 'powerful',\n",
       " 'for',\n",
       " 'working',\n",
       " 'with',\n",
       " 'large',\n",
       " 'amounts',\n",
       " 'of',\n",
       " 'unstructured',\n",
       " 'data',\n",
       " 'such',\n",
       " 'as',\n",
       " 'images',\n",
       " ',',\n",
       " 'audio',\n",
       " ',',\n",
       " 'and',\n",
       " 'text',\n",
       " '.',\n",
       " 'Deep',\n",
       " 'learning',\n",
       " 'has',\n",
       " 'driven',\n",
       " 'many',\n",
       " 'recent',\n",
       " 'AI',\n",
       " 'breakthroughs',\n",
       " ',',\n",
       " 'including',\n",
       " 'advanced',\n",
       " 'voice',\n",
       " 'recognition',\n",
       " ',',\n",
       " 'real-time',\n",
       " 'language',\n",
       " 'translation',\n",
       " ',',\n",
       " 'and',\n",
       " 'self-driving',\n",
       " 'cars',\n",
       " '.',\n",
       " 'Techniques',\n",
       " 'like',\n",
       " 'convolutional',\n",
       " 'neural',\n",
       " 'networks',\n",
       " 'for',\n",
       " 'image',\n",
       " 'processing',\n",
       " 'and',\n",
       " 'recurrent',\n",
       " 'neural',\n",
       " 'networks',\n",
       " 'for',\n",
       " 'sequential',\n",
       " 'data',\n",
       " 'are',\n",
       " 'common',\n",
       " 'in',\n",
       " 'deep',\n",
       " 'learning',\n",
       " '.']"
      ]
     },
     "execution_count": 20,
     "metadata": {},
     "output_type": "execute_result"
    }
   ],
   "source": [
    "tokens"
   ]
  },
  {
   "cell_type": "code",
   "execution_count": 21,
   "metadata": {
    "colab": {
     "base_uri": "https://localhost:8080/"
    },
    "id": "4e2OLLz-I9UI",
    "outputId": "6a3868fe-df4d-49a1-fb0d-26fdc40a343f"
   },
   "outputs": [
    {
     "data": {
      "text/plain": [
       "275"
      ]
     },
     "execution_count": 21,
     "metadata": {},
     "output_type": "execute_result"
    }
   ],
   "source": [
    "len(tokens)"
   ]
  },
  {
   "cell_type": "code",
   "execution_count": 22,
   "metadata": {
    "id": "aTLMeaB5Jk3C"
   },
   "outputs": [],
   "source": [
    "from nltk.probability import FreqDist\n",
    "fdist=FreqDist()"
   ]
  },
  {
   "cell_type": "code",
   "execution_count": 23,
   "metadata": {
    "id": "a4PiJW6uKFCN"
   },
   "outputs": [],
   "source": [
    "for word in tokens:\n",
    "  fdist[word.lower()]+=1"
   ]
  },
  {
   "cell_type": "code",
   "execution_count": 24,
   "metadata": {
    "colab": {
     "base_uri": "https://localhost:8080/"
    },
    "id": "cY1MRO7YKKns",
    "outputId": "af4e4ba8-c2eb-4fce-ec1f-14bb54d1fc66"
   },
   "outputs": [
    {
     "data": {
      "text/plain": [
       "FreqDist({',': 18, '.': 13, 'and': 9, 'of': 7, 'that': 7, 'learning': 7, 'ai': 6, 'to': 6, 'is': 5, 'for': 5, ...})"
      ]
     },
     "execution_count": 24,
     "metadata": {},
     "output_type": "execute_result"
    }
   ],
   "source": [
    "fdist"
   ]
  },
  {
   "cell_type": "code",
   "execution_count": 25,
   "metadata": {
    "colab": {
     "base_uri": "https://localhost:8080/"
    },
    "id": "SUIpakNlKL-q",
    "outputId": "0c658f9d-ccd6-4093-d53d-f24d002bf1f1"
   },
   "outputs": [
    {
     "data": {
      "text/plain": [
       "6"
      ]
     },
     "execution_count": 25,
     "metadata": {},
     "output_type": "execute_result"
    }
   ],
   "source": [
    "fdist['ai']"
   ]
  },
  {
   "cell_type": "code",
   "execution_count": 26,
   "metadata": {
    "colab": {
     "base_uri": "https://localhost:8080/"
    },
    "id": "JRL06f-lKRQs",
    "outputId": "46f98b52-3f95-4635-d203-9c451b44034e"
   },
   "outputs": [
    {
     "data": {
      "text/plain": [
       "150"
      ]
     },
     "execution_count": 26,
     "metadata": {},
     "output_type": "execute_result"
    }
   ],
   "source": [
    "len(fdist)"
   ]
  },
  {
   "cell_type": "code",
   "execution_count": 27,
   "metadata": {
    "colab": {
     "base_uri": "https://localhost:8080/"
    },
    "id": "CsIFnnbYKTUA",
    "outputId": "68838f07-2e4f-4fef-8d42-2b97de459923"
   },
   "outputs": [
    {
     "data": {
      "text/plain": [
       "[(',', 18),\n",
       " ('.', 13),\n",
       " ('and', 9),\n",
       " ('of', 7),\n",
       " ('that', 7),\n",
       " ('learning', 7),\n",
       " ('ai', 6),\n",
       " ('to', 6),\n",
       " ('is', 5),\n",
       " ('for', 5)]"
      ]
     },
     "execution_count": 27,
     "metadata": {},
     "output_type": "execute_result"
    }
   ],
   "source": [
    "fdist.most_common(10)"
   ]
  },
  {
   "cell_type": "code",
   "execution_count": 28,
   "metadata": {
    "id": "XCuQff76Krdu"
   },
   "outputs": [],
   "source": [
    "from nltk.tokenize import blankline_tokenize\n",
    "ai_blank=blankline_tokenize(paragraph)"
   ]
  },
  {
   "cell_type": "code",
   "execution_count": 29,
   "metadata": {
    "colab": {
     "base_uri": "https://localhost:8080/"
    },
    "id": "42kzkecZLUUE",
    "outputId": "72496abb-c27f-4da0-a36b-48d0104ba0fe"
   },
   "outputs": [
    {
     "data": {
      "text/plain": [
       "3"
      ]
     },
     "execution_count": 29,
     "metadata": {},
     "output_type": "execute_result"
    }
   ],
   "source": [
    "len(ai_blank)"
   ]
  },
  {
   "cell_type": "code",
   "execution_count": 30,
   "metadata": {
    "colab": {
     "base_uri": "https://localhost:8080/"
    },
    "id": "JKl2VxfjLVUx",
    "outputId": "278e3805-9dad-4e2a-a74b-d11e5eab6c1a"
   },
   "outputs": [
    {
     "data": {
      "text/plain": [
       "['Artificial Intelligence (AI) refers to the broader concept of machines being able to carry out tasks in a way that we would consider smart. AI is an umbrella term for any technique that enables computers to mimic human intelligence, including reasoning, problem-solving, understanding language, and perception. It can be rule-based, like expert systems, or learning-based. Applications of AI range from virtual assistants like Siri and Alexa to autonomous vehicles and advanced robotics. The goal of AI is to build systems that can perform tasks that typically require human intelligence.',\n",
       " 'Machine Learning (ML) is a subset of AI that focuses on building systems that learn from data and improve over time without being explicitly programmed. Instead of writing detailed instructions for every task, ML algorithms use patterns in data to make predictions or decisions. ML is used in recommendation systems like Netflix or Amazon, fraud detection, image recognition, and more. It includes various types like supervised learning, unsupervised learning, and reinforcement learning.',\n",
       " 'Deep Learning (DL) is a further subset of ML that uses neural networks with many layers, hence the term deep. These networks are particularly powerful for working with large amounts of unstructured data such as images, audio, and text. Deep learning has driven many recent AI breakthroughs, including advanced voice recognition, real-time language translation, and self-driving cars. Techniques like convolutional neural networks for image processing and recurrent neural networks for sequential data are common in deep learning.\\n ']"
      ]
     },
     "execution_count": 30,
     "metadata": {},
     "output_type": "execute_result"
    }
   ],
   "source": [
    "ai_blank"
   ]
  },
  {
   "cell_type": "code",
   "execution_count": 31,
   "metadata": {
    "id": "etRv8VIKLagL"
   },
   "outputs": [],
   "source": [
    "from nltk.util import bigrams,trigrams,ngrams"
   ]
  },
  {
   "cell_type": "code",
   "execution_count": 32,
   "metadata": {
    "colab": {
     "base_uri": "https://localhost:8080/"
    },
    "id": "HLPpxH8-BOdg",
    "outputId": "8dd5bd2b-2be8-4463-e4d0-98e8adbc696f"
   },
   "outputs": [
    {
     "data": {
      "text/plain": [
       "[('Artificial', 'Intelligence'),\n",
       " ('Intelligence', '('),\n",
       " ('(', 'AI'),\n",
       " ('AI', ')'),\n",
       " (')', 'refers'),\n",
       " ('refers', 'to'),\n",
       " ('to', 'the'),\n",
       " ('the', 'broader'),\n",
       " ('broader', 'concept'),\n",
       " ('concept', 'of'),\n",
       " ('of', 'machines'),\n",
       " ('machines', 'being'),\n",
       " ('being', 'able'),\n",
       " ('able', 'to'),\n",
       " ('to', 'carry'),\n",
       " ('carry', 'out'),\n",
       " ('out', 'tasks'),\n",
       " ('tasks', 'in'),\n",
       " ('in', 'a'),\n",
       " ('a', 'way'),\n",
       " ('way', 'that'),\n",
       " ('that', 'we'),\n",
       " ('we', 'would'),\n",
       " ('would', 'consider'),\n",
       " ('consider', 'smart'),\n",
       " ('smart', '.'),\n",
       " ('.', 'AI'),\n",
       " ('AI', 'is'),\n",
       " ('is', 'an'),\n",
       " ('an', 'umbrella'),\n",
       " ('umbrella', 'term'),\n",
       " ('term', 'for'),\n",
       " ('for', 'any'),\n",
       " ('any', 'technique'),\n",
       " ('technique', 'that'),\n",
       " ('that', 'enables'),\n",
       " ('enables', 'computers'),\n",
       " ('computers', 'to'),\n",
       " ('to', 'mimic'),\n",
       " ('mimic', 'human'),\n",
       " ('human', 'intelligence'),\n",
       " ('intelligence', ','),\n",
       " (',', 'including'),\n",
       " ('including', 'reasoning'),\n",
       " ('reasoning', ','),\n",
       " (',', 'problem-solving'),\n",
       " ('problem-solving', ','),\n",
       " (',', 'understanding'),\n",
       " ('understanding', 'language'),\n",
       " ('language', ','),\n",
       " (',', 'and'),\n",
       " ('and', 'perception'),\n",
       " ('perception', '.'),\n",
       " ('.', 'It'),\n",
       " ('It', 'can'),\n",
       " ('can', 'be'),\n",
       " ('be', 'rule-based'),\n",
       " ('rule-based', ','),\n",
       " (',', 'like'),\n",
       " ('like', 'expert'),\n",
       " ('expert', 'systems'),\n",
       " ('systems', ','),\n",
       " (',', 'or'),\n",
       " ('or', 'learning-based'),\n",
       " ('learning-based', '.'),\n",
       " ('.', 'Applications'),\n",
       " ('Applications', 'of'),\n",
       " ('of', 'AI'),\n",
       " ('AI', 'range'),\n",
       " ('range', 'from'),\n",
       " ('from', 'virtual'),\n",
       " ('virtual', 'assistants'),\n",
       " ('assistants', 'like'),\n",
       " ('like', 'Siri'),\n",
       " ('Siri', 'and'),\n",
       " ('and', 'Alexa'),\n",
       " ('Alexa', 'to'),\n",
       " ('to', 'autonomous'),\n",
       " ('autonomous', 'vehicles'),\n",
       " ('vehicles', 'and'),\n",
       " ('and', 'advanced'),\n",
       " ('advanced', 'robotics'),\n",
       " ('robotics', '.'),\n",
       " ('.', 'The'),\n",
       " ('The', 'goal'),\n",
       " ('goal', 'of'),\n",
       " ('of', 'AI'),\n",
       " ('AI', 'is'),\n",
       " ('is', 'to'),\n",
       " ('to', 'build'),\n",
       " ('build', 'systems'),\n",
       " ('systems', 'that'),\n",
       " ('that', 'can'),\n",
       " ('can', 'perform'),\n",
       " ('perform', 'tasks'),\n",
       " ('tasks', 'that'),\n",
       " ('that', 'typically'),\n",
       " ('typically', 'require'),\n",
       " ('require', 'human'),\n",
       " ('human', 'intelligence'),\n",
       " ('intelligence', '.'),\n",
       " ('.', 'Machine'),\n",
       " ('Machine', 'Learning'),\n",
       " ('Learning', '('),\n",
       " ('(', 'ML'),\n",
       " ('ML', ')'),\n",
       " (')', 'is'),\n",
       " ('is', 'a'),\n",
       " ('a', 'subset'),\n",
       " ('subset', 'of'),\n",
       " ('of', 'AI'),\n",
       " ('AI', 'that'),\n",
       " ('that', 'focuses'),\n",
       " ('focuses', 'on'),\n",
       " ('on', 'building'),\n",
       " ('building', 'systems'),\n",
       " ('systems', 'that'),\n",
       " ('that', 'learn'),\n",
       " ('learn', 'from'),\n",
       " ('from', 'data'),\n",
       " ('data', 'and'),\n",
       " ('and', 'improve'),\n",
       " ('improve', 'over'),\n",
       " ('over', 'time'),\n",
       " ('time', 'without'),\n",
       " ('without', 'being'),\n",
       " ('being', 'explicitly'),\n",
       " ('explicitly', 'programmed'),\n",
       " ('programmed', '.'),\n",
       " ('.', 'Instead'),\n",
       " ('Instead', 'of'),\n",
       " ('of', 'writing'),\n",
       " ('writing', 'detailed'),\n",
       " ('detailed', 'instructions'),\n",
       " ('instructions', 'for'),\n",
       " ('for', 'every'),\n",
       " ('every', 'task'),\n",
       " ('task', ','),\n",
       " (',', 'ML'),\n",
       " ('ML', 'algorithms'),\n",
       " ('algorithms', 'use'),\n",
       " ('use', 'patterns'),\n",
       " ('patterns', 'in'),\n",
       " ('in', 'data'),\n",
       " ('data', 'to'),\n",
       " ('to', 'make'),\n",
       " ('make', 'predictions'),\n",
       " ('predictions', 'or'),\n",
       " ('or', 'decisions'),\n",
       " ('decisions', '.'),\n",
       " ('.', 'ML'),\n",
       " ('ML', 'is'),\n",
       " ('is', 'used'),\n",
       " ('used', 'in'),\n",
       " ('in', 'recommendation'),\n",
       " ('recommendation', 'systems'),\n",
       " ('systems', 'like'),\n",
       " ('like', 'Netflix'),\n",
       " ('Netflix', 'or'),\n",
       " ('or', 'Amazon'),\n",
       " ('Amazon', ','),\n",
       " (',', 'fraud'),\n",
       " ('fraud', 'detection'),\n",
       " ('detection', ','),\n",
       " (',', 'image'),\n",
       " ('image', 'recognition'),\n",
       " ('recognition', ','),\n",
       " (',', 'and'),\n",
       " ('and', 'more'),\n",
       " ('more', '.'),\n",
       " ('.', 'It'),\n",
       " ('It', 'includes'),\n",
       " ('includes', 'various'),\n",
       " ('various', 'types'),\n",
       " ('types', 'like'),\n",
       " ('like', 'supervised'),\n",
       " ('supervised', 'learning'),\n",
       " ('learning', ','),\n",
       " (',', 'unsupervised'),\n",
       " ('unsupervised', 'learning'),\n",
       " ('learning', ','),\n",
       " (',', 'and'),\n",
       " ('and', 'reinforcement'),\n",
       " ('reinforcement', 'learning'),\n",
       " ('learning', '.'),\n",
       " ('.', 'Deep'),\n",
       " ('Deep', 'Learning'),\n",
       " ('Learning', '('),\n",
       " ('(', 'DL'),\n",
       " ('DL', ')'),\n",
       " (')', 'is'),\n",
       " ('is', 'a'),\n",
       " ('a', 'further'),\n",
       " ('further', 'subset'),\n",
       " ('subset', 'of'),\n",
       " ('of', 'ML'),\n",
       " ('ML', 'that'),\n",
       " ('that', 'uses'),\n",
       " ('uses', 'neural'),\n",
       " ('neural', 'networks'),\n",
       " ('networks', 'with'),\n",
       " ('with', 'many'),\n",
       " ('many', 'layers'),\n",
       " ('layers', ','),\n",
       " (',', 'hence'),\n",
       " ('hence', 'the'),\n",
       " ('the', 'term'),\n",
       " ('term', 'deep'),\n",
       " ('deep', '.'),\n",
       " ('.', 'These'),\n",
       " ('These', 'networks'),\n",
       " ('networks', 'are'),\n",
       " ('are', 'particularly'),\n",
       " ('particularly', 'powerful'),\n",
       " ('powerful', 'for'),\n",
       " ('for', 'working'),\n",
       " ('working', 'with'),\n",
       " ('with', 'large'),\n",
       " ('large', 'amounts'),\n",
       " ('amounts', 'of'),\n",
       " ('of', 'unstructured'),\n",
       " ('unstructured', 'data'),\n",
       " ('data', 'such'),\n",
       " ('such', 'as'),\n",
       " ('as', 'images'),\n",
       " ('images', ','),\n",
       " (',', 'audio'),\n",
       " ('audio', ','),\n",
       " (',', 'and'),\n",
       " ('and', 'text'),\n",
       " ('text', '.'),\n",
       " ('.', 'Deep'),\n",
       " ('Deep', 'learning'),\n",
       " ('learning', 'has'),\n",
       " ('has', 'driven'),\n",
       " ('driven', 'many'),\n",
       " ('many', 'recent'),\n",
       " ('recent', 'AI'),\n",
       " ('AI', 'breakthroughs'),\n",
       " ('breakthroughs', ','),\n",
       " (',', 'including'),\n",
       " ('including', 'advanced'),\n",
       " ('advanced', 'voice'),\n",
       " ('voice', 'recognition'),\n",
       " ('recognition', ','),\n",
       " (',', 'real-time'),\n",
       " ('real-time', 'language'),\n",
       " ('language', 'translation'),\n",
       " ('translation', ','),\n",
       " (',', 'and'),\n",
       " ('and', 'self-driving'),\n",
       " ('self-driving', 'cars'),\n",
       " ('cars', '.'),\n",
       " ('.', 'Techniques'),\n",
       " ('Techniques', 'like'),\n",
       " ('like', 'convolutional'),\n",
       " ('convolutional', 'neural'),\n",
       " ('neural', 'networks'),\n",
       " ('networks', 'for'),\n",
       " ('for', 'image'),\n",
       " ('image', 'processing'),\n",
       " ('processing', 'and'),\n",
       " ('and', 'recurrent'),\n",
       " ('recurrent', 'neural'),\n",
       " ('neural', 'networks'),\n",
       " ('networks', 'for'),\n",
       " ('for', 'sequential'),\n",
       " ('sequential', 'data'),\n",
       " ('data', 'are'),\n",
       " ('are', 'common'),\n",
       " ('common', 'in'),\n",
       " ('in', 'deep'),\n",
       " ('deep', 'learning'),\n",
       " ('learning', '.')]"
      ]
     },
     "execution_count": 32,
     "metadata": {},
     "output_type": "execute_result"
    }
   ],
   "source": [
    "quotes_bigrams=list(nltk.bigrams(tokens))\n",
    "quotes_bigrams"
   ]
  },
  {
   "cell_type": "code",
   "execution_count": 33,
   "metadata": {
    "colab": {
     "base_uri": "https://localhost:8080/"
    },
    "id": "C-W40cNxBq1Q",
    "outputId": "a85711f1-923b-4734-d032-d2ae11db603e"
   },
   "outputs": [
    {
     "data": {
      "text/plain": [
       "[('Artificial', 'Intelligence', '('),\n",
       " ('Intelligence', '(', 'AI'),\n",
       " ('(', 'AI', ')'),\n",
       " ('AI', ')', 'refers'),\n",
       " (')', 'refers', 'to'),\n",
       " ('refers', 'to', 'the'),\n",
       " ('to', 'the', 'broader'),\n",
       " ('the', 'broader', 'concept'),\n",
       " ('broader', 'concept', 'of'),\n",
       " ('concept', 'of', 'machines'),\n",
       " ('of', 'machines', 'being'),\n",
       " ('machines', 'being', 'able'),\n",
       " ('being', 'able', 'to'),\n",
       " ('able', 'to', 'carry'),\n",
       " ('to', 'carry', 'out'),\n",
       " ('carry', 'out', 'tasks'),\n",
       " ('out', 'tasks', 'in'),\n",
       " ('tasks', 'in', 'a'),\n",
       " ('in', 'a', 'way'),\n",
       " ('a', 'way', 'that'),\n",
       " ('way', 'that', 'we'),\n",
       " ('that', 'we', 'would'),\n",
       " ('we', 'would', 'consider'),\n",
       " ('would', 'consider', 'smart'),\n",
       " ('consider', 'smart', '.'),\n",
       " ('smart', '.', 'AI'),\n",
       " ('.', 'AI', 'is'),\n",
       " ('AI', 'is', 'an'),\n",
       " ('is', 'an', 'umbrella'),\n",
       " ('an', 'umbrella', 'term'),\n",
       " ('umbrella', 'term', 'for'),\n",
       " ('term', 'for', 'any'),\n",
       " ('for', 'any', 'technique'),\n",
       " ('any', 'technique', 'that'),\n",
       " ('technique', 'that', 'enables'),\n",
       " ('that', 'enables', 'computers'),\n",
       " ('enables', 'computers', 'to'),\n",
       " ('computers', 'to', 'mimic'),\n",
       " ('to', 'mimic', 'human'),\n",
       " ('mimic', 'human', 'intelligence'),\n",
       " ('human', 'intelligence', ','),\n",
       " ('intelligence', ',', 'including'),\n",
       " (',', 'including', 'reasoning'),\n",
       " ('including', 'reasoning', ','),\n",
       " ('reasoning', ',', 'problem-solving'),\n",
       " (',', 'problem-solving', ','),\n",
       " ('problem-solving', ',', 'understanding'),\n",
       " (',', 'understanding', 'language'),\n",
       " ('understanding', 'language', ','),\n",
       " ('language', ',', 'and'),\n",
       " (',', 'and', 'perception'),\n",
       " ('and', 'perception', '.'),\n",
       " ('perception', '.', 'It'),\n",
       " ('.', 'It', 'can'),\n",
       " ('It', 'can', 'be'),\n",
       " ('can', 'be', 'rule-based'),\n",
       " ('be', 'rule-based', ','),\n",
       " ('rule-based', ',', 'like'),\n",
       " (',', 'like', 'expert'),\n",
       " ('like', 'expert', 'systems'),\n",
       " ('expert', 'systems', ','),\n",
       " ('systems', ',', 'or'),\n",
       " (',', 'or', 'learning-based'),\n",
       " ('or', 'learning-based', '.'),\n",
       " ('learning-based', '.', 'Applications'),\n",
       " ('.', 'Applications', 'of'),\n",
       " ('Applications', 'of', 'AI'),\n",
       " ('of', 'AI', 'range'),\n",
       " ('AI', 'range', 'from'),\n",
       " ('range', 'from', 'virtual'),\n",
       " ('from', 'virtual', 'assistants'),\n",
       " ('virtual', 'assistants', 'like'),\n",
       " ('assistants', 'like', 'Siri'),\n",
       " ('like', 'Siri', 'and'),\n",
       " ('Siri', 'and', 'Alexa'),\n",
       " ('and', 'Alexa', 'to'),\n",
       " ('Alexa', 'to', 'autonomous'),\n",
       " ('to', 'autonomous', 'vehicles'),\n",
       " ('autonomous', 'vehicles', 'and'),\n",
       " ('vehicles', 'and', 'advanced'),\n",
       " ('and', 'advanced', 'robotics'),\n",
       " ('advanced', 'robotics', '.'),\n",
       " ('robotics', '.', 'The'),\n",
       " ('.', 'The', 'goal'),\n",
       " ('The', 'goal', 'of'),\n",
       " ('goal', 'of', 'AI'),\n",
       " ('of', 'AI', 'is'),\n",
       " ('AI', 'is', 'to'),\n",
       " ('is', 'to', 'build'),\n",
       " ('to', 'build', 'systems'),\n",
       " ('build', 'systems', 'that'),\n",
       " ('systems', 'that', 'can'),\n",
       " ('that', 'can', 'perform'),\n",
       " ('can', 'perform', 'tasks'),\n",
       " ('perform', 'tasks', 'that'),\n",
       " ('tasks', 'that', 'typically'),\n",
       " ('that', 'typically', 'require'),\n",
       " ('typically', 'require', 'human'),\n",
       " ('require', 'human', 'intelligence'),\n",
       " ('human', 'intelligence', '.'),\n",
       " ('intelligence', '.', 'Machine'),\n",
       " ('.', 'Machine', 'Learning'),\n",
       " ('Machine', 'Learning', '('),\n",
       " ('Learning', '(', 'ML'),\n",
       " ('(', 'ML', ')'),\n",
       " ('ML', ')', 'is'),\n",
       " (')', 'is', 'a'),\n",
       " ('is', 'a', 'subset'),\n",
       " ('a', 'subset', 'of'),\n",
       " ('subset', 'of', 'AI'),\n",
       " ('of', 'AI', 'that'),\n",
       " ('AI', 'that', 'focuses'),\n",
       " ('that', 'focuses', 'on'),\n",
       " ('focuses', 'on', 'building'),\n",
       " ('on', 'building', 'systems'),\n",
       " ('building', 'systems', 'that'),\n",
       " ('systems', 'that', 'learn'),\n",
       " ('that', 'learn', 'from'),\n",
       " ('learn', 'from', 'data'),\n",
       " ('from', 'data', 'and'),\n",
       " ('data', 'and', 'improve'),\n",
       " ('and', 'improve', 'over'),\n",
       " ('improve', 'over', 'time'),\n",
       " ('over', 'time', 'without'),\n",
       " ('time', 'without', 'being'),\n",
       " ('without', 'being', 'explicitly'),\n",
       " ('being', 'explicitly', 'programmed'),\n",
       " ('explicitly', 'programmed', '.'),\n",
       " ('programmed', '.', 'Instead'),\n",
       " ('.', 'Instead', 'of'),\n",
       " ('Instead', 'of', 'writing'),\n",
       " ('of', 'writing', 'detailed'),\n",
       " ('writing', 'detailed', 'instructions'),\n",
       " ('detailed', 'instructions', 'for'),\n",
       " ('instructions', 'for', 'every'),\n",
       " ('for', 'every', 'task'),\n",
       " ('every', 'task', ','),\n",
       " ('task', ',', 'ML'),\n",
       " (',', 'ML', 'algorithms'),\n",
       " ('ML', 'algorithms', 'use'),\n",
       " ('algorithms', 'use', 'patterns'),\n",
       " ('use', 'patterns', 'in'),\n",
       " ('patterns', 'in', 'data'),\n",
       " ('in', 'data', 'to'),\n",
       " ('data', 'to', 'make'),\n",
       " ('to', 'make', 'predictions'),\n",
       " ('make', 'predictions', 'or'),\n",
       " ('predictions', 'or', 'decisions'),\n",
       " ('or', 'decisions', '.'),\n",
       " ('decisions', '.', 'ML'),\n",
       " ('.', 'ML', 'is'),\n",
       " ('ML', 'is', 'used'),\n",
       " ('is', 'used', 'in'),\n",
       " ('used', 'in', 'recommendation'),\n",
       " ('in', 'recommendation', 'systems'),\n",
       " ('recommendation', 'systems', 'like'),\n",
       " ('systems', 'like', 'Netflix'),\n",
       " ('like', 'Netflix', 'or'),\n",
       " ('Netflix', 'or', 'Amazon'),\n",
       " ('or', 'Amazon', ','),\n",
       " ('Amazon', ',', 'fraud'),\n",
       " (',', 'fraud', 'detection'),\n",
       " ('fraud', 'detection', ','),\n",
       " ('detection', ',', 'image'),\n",
       " (',', 'image', 'recognition'),\n",
       " ('image', 'recognition', ','),\n",
       " ('recognition', ',', 'and'),\n",
       " (',', 'and', 'more'),\n",
       " ('and', 'more', '.'),\n",
       " ('more', '.', 'It'),\n",
       " ('.', 'It', 'includes'),\n",
       " ('It', 'includes', 'various'),\n",
       " ('includes', 'various', 'types'),\n",
       " ('various', 'types', 'like'),\n",
       " ('types', 'like', 'supervised'),\n",
       " ('like', 'supervised', 'learning'),\n",
       " ('supervised', 'learning', ','),\n",
       " ('learning', ',', 'unsupervised'),\n",
       " (',', 'unsupervised', 'learning'),\n",
       " ('unsupervised', 'learning', ','),\n",
       " ('learning', ',', 'and'),\n",
       " (',', 'and', 'reinforcement'),\n",
       " ('and', 'reinforcement', 'learning'),\n",
       " ('reinforcement', 'learning', '.'),\n",
       " ('learning', '.', 'Deep'),\n",
       " ('.', 'Deep', 'Learning'),\n",
       " ('Deep', 'Learning', '('),\n",
       " ('Learning', '(', 'DL'),\n",
       " ('(', 'DL', ')'),\n",
       " ('DL', ')', 'is'),\n",
       " (')', 'is', 'a'),\n",
       " ('is', 'a', 'further'),\n",
       " ('a', 'further', 'subset'),\n",
       " ('further', 'subset', 'of'),\n",
       " ('subset', 'of', 'ML'),\n",
       " ('of', 'ML', 'that'),\n",
       " ('ML', 'that', 'uses'),\n",
       " ('that', 'uses', 'neural'),\n",
       " ('uses', 'neural', 'networks'),\n",
       " ('neural', 'networks', 'with'),\n",
       " ('networks', 'with', 'many'),\n",
       " ('with', 'many', 'layers'),\n",
       " ('many', 'layers', ','),\n",
       " ('layers', ',', 'hence'),\n",
       " (',', 'hence', 'the'),\n",
       " ('hence', 'the', 'term'),\n",
       " ('the', 'term', 'deep'),\n",
       " ('term', 'deep', '.'),\n",
       " ('deep', '.', 'These'),\n",
       " ('.', 'These', 'networks'),\n",
       " ('These', 'networks', 'are'),\n",
       " ('networks', 'are', 'particularly'),\n",
       " ('are', 'particularly', 'powerful'),\n",
       " ('particularly', 'powerful', 'for'),\n",
       " ('powerful', 'for', 'working'),\n",
       " ('for', 'working', 'with'),\n",
       " ('working', 'with', 'large'),\n",
       " ('with', 'large', 'amounts'),\n",
       " ('large', 'amounts', 'of'),\n",
       " ('amounts', 'of', 'unstructured'),\n",
       " ('of', 'unstructured', 'data'),\n",
       " ('unstructured', 'data', 'such'),\n",
       " ('data', 'such', 'as'),\n",
       " ('such', 'as', 'images'),\n",
       " ('as', 'images', ','),\n",
       " ('images', ',', 'audio'),\n",
       " (',', 'audio', ','),\n",
       " ('audio', ',', 'and'),\n",
       " (',', 'and', 'text'),\n",
       " ('and', 'text', '.'),\n",
       " ('text', '.', 'Deep'),\n",
       " ('.', 'Deep', 'learning'),\n",
       " ('Deep', 'learning', 'has'),\n",
       " ('learning', 'has', 'driven'),\n",
       " ('has', 'driven', 'many'),\n",
       " ('driven', 'many', 'recent'),\n",
       " ('many', 'recent', 'AI'),\n",
       " ('recent', 'AI', 'breakthroughs'),\n",
       " ('AI', 'breakthroughs', ','),\n",
       " ('breakthroughs', ',', 'including'),\n",
       " (',', 'including', 'advanced'),\n",
       " ('including', 'advanced', 'voice'),\n",
       " ('advanced', 'voice', 'recognition'),\n",
       " ('voice', 'recognition', ','),\n",
       " ('recognition', ',', 'real-time'),\n",
       " (',', 'real-time', 'language'),\n",
       " ('real-time', 'language', 'translation'),\n",
       " ('language', 'translation', ','),\n",
       " ('translation', ',', 'and'),\n",
       " (',', 'and', 'self-driving'),\n",
       " ('and', 'self-driving', 'cars'),\n",
       " ('self-driving', 'cars', '.'),\n",
       " ('cars', '.', 'Techniques'),\n",
       " ('.', 'Techniques', 'like'),\n",
       " ('Techniques', 'like', 'convolutional'),\n",
       " ('like', 'convolutional', 'neural'),\n",
       " ('convolutional', 'neural', 'networks'),\n",
       " ('neural', 'networks', 'for'),\n",
       " ('networks', 'for', 'image'),\n",
       " ('for', 'image', 'processing'),\n",
       " ('image', 'processing', 'and'),\n",
       " ('processing', 'and', 'recurrent'),\n",
       " ('and', 'recurrent', 'neural'),\n",
       " ('recurrent', 'neural', 'networks'),\n",
       " ('neural', 'networks', 'for'),\n",
       " ('networks', 'for', 'sequential'),\n",
       " ('for', 'sequential', 'data'),\n",
       " ('sequential', 'data', 'are'),\n",
       " ('data', 'are', 'common'),\n",
       " ('are', 'common', 'in'),\n",
       " ('common', 'in', 'deep'),\n",
       " ('in', 'deep', 'learning'),\n",
       " ('deep', 'learning', '.')]"
      ]
     },
     "execution_count": 33,
     "metadata": {},
     "output_type": "execute_result"
    }
   ],
   "source": [
    "quotes_bigrams=list(nltk.trigrams(tokens))\n",
    "quotes_bigrams"
   ]
  },
  {
   "cell_type": "code",
   "execution_count": 34,
   "metadata": {
    "colab": {
     "base_uri": "https://localhost:8080/"
    },
    "id": "piAfq_RLBwBC",
    "outputId": "5c1f4630-fe0a-46bf-dc26-dbbdf25b6832"
   },
   "outputs": [
    {
     "data": {
      "text/plain": [
       "[('Artificial', 'Intelligence', '(', 'AI', ')'),\n",
       " ('Intelligence', '(', 'AI', ')', 'refers'),\n",
       " ('(', 'AI', ')', 'refers', 'to'),\n",
       " ('AI', ')', 'refers', 'to', 'the'),\n",
       " (')', 'refers', 'to', 'the', 'broader'),\n",
       " ('refers', 'to', 'the', 'broader', 'concept'),\n",
       " ('to', 'the', 'broader', 'concept', 'of'),\n",
       " ('the', 'broader', 'concept', 'of', 'machines'),\n",
       " ('broader', 'concept', 'of', 'machines', 'being'),\n",
       " ('concept', 'of', 'machines', 'being', 'able'),\n",
       " ('of', 'machines', 'being', 'able', 'to'),\n",
       " ('machines', 'being', 'able', 'to', 'carry'),\n",
       " ('being', 'able', 'to', 'carry', 'out'),\n",
       " ('able', 'to', 'carry', 'out', 'tasks'),\n",
       " ('to', 'carry', 'out', 'tasks', 'in'),\n",
       " ('carry', 'out', 'tasks', 'in', 'a'),\n",
       " ('out', 'tasks', 'in', 'a', 'way'),\n",
       " ('tasks', 'in', 'a', 'way', 'that'),\n",
       " ('in', 'a', 'way', 'that', 'we'),\n",
       " ('a', 'way', 'that', 'we', 'would'),\n",
       " ('way', 'that', 'we', 'would', 'consider'),\n",
       " ('that', 'we', 'would', 'consider', 'smart'),\n",
       " ('we', 'would', 'consider', 'smart', '.'),\n",
       " ('would', 'consider', 'smart', '.', 'AI'),\n",
       " ('consider', 'smart', '.', 'AI', 'is'),\n",
       " ('smart', '.', 'AI', 'is', 'an'),\n",
       " ('.', 'AI', 'is', 'an', 'umbrella'),\n",
       " ('AI', 'is', 'an', 'umbrella', 'term'),\n",
       " ('is', 'an', 'umbrella', 'term', 'for'),\n",
       " ('an', 'umbrella', 'term', 'for', 'any'),\n",
       " ('umbrella', 'term', 'for', 'any', 'technique'),\n",
       " ('term', 'for', 'any', 'technique', 'that'),\n",
       " ('for', 'any', 'technique', 'that', 'enables'),\n",
       " ('any', 'technique', 'that', 'enables', 'computers'),\n",
       " ('technique', 'that', 'enables', 'computers', 'to'),\n",
       " ('that', 'enables', 'computers', 'to', 'mimic'),\n",
       " ('enables', 'computers', 'to', 'mimic', 'human'),\n",
       " ('computers', 'to', 'mimic', 'human', 'intelligence'),\n",
       " ('to', 'mimic', 'human', 'intelligence', ','),\n",
       " ('mimic', 'human', 'intelligence', ',', 'including'),\n",
       " ('human', 'intelligence', ',', 'including', 'reasoning'),\n",
       " ('intelligence', ',', 'including', 'reasoning', ','),\n",
       " (',', 'including', 'reasoning', ',', 'problem-solving'),\n",
       " ('including', 'reasoning', ',', 'problem-solving', ','),\n",
       " ('reasoning', ',', 'problem-solving', ',', 'understanding'),\n",
       " (',', 'problem-solving', ',', 'understanding', 'language'),\n",
       " ('problem-solving', ',', 'understanding', 'language', ','),\n",
       " (',', 'understanding', 'language', ',', 'and'),\n",
       " ('understanding', 'language', ',', 'and', 'perception'),\n",
       " ('language', ',', 'and', 'perception', '.'),\n",
       " (',', 'and', 'perception', '.', 'It'),\n",
       " ('and', 'perception', '.', 'It', 'can'),\n",
       " ('perception', '.', 'It', 'can', 'be'),\n",
       " ('.', 'It', 'can', 'be', 'rule-based'),\n",
       " ('It', 'can', 'be', 'rule-based', ','),\n",
       " ('can', 'be', 'rule-based', ',', 'like'),\n",
       " ('be', 'rule-based', ',', 'like', 'expert'),\n",
       " ('rule-based', ',', 'like', 'expert', 'systems'),\n",
       " (',', 'like', 'expert', 'systems', ','),\n",
       " ('like', 'expert', 'systems', ',', 'or'),\n",
       " ('expert', 'systems', ',', 'or', 'learning-based'),\n",
       " ('systems', ',', 'or', 'learning-based', '.'),\n",
       " (',', 'or', 'learning-based', '.', 'Applications'),\n",
       " ('or', 'learning-based', '.', 'Applications', 'of'),\n",
       " ('learning-based', '.', 'Applications', 'of', 'AI'),\n",
       " ('.', 'Applications', 'of', 'AI', 'range'),\n",
       " ('Applications', 'of', 'AI', 'range', 'from'),\n",
       " ('of', 'AI', 'range', 'from', 'virtual'),\n",
       " ('AI', 'range', 'from', 'virtual', 'assistants'),\n",
       " ('range', 'from', 'virtual', 'assistants', 'like'),\n",
       " ('from', 'virtual', 'assistants', 'like', 'Siri'),\n",
       " ('virtual', 'assistants', 'like', 'Siri', 'and'),\n",
       " ('assistants', 'like', 'Siri', 'and', 'Alexa'),\n",
       " ('like', 'Siri', 'and', 'Alexa', 'to'),\n",
       " ('Siri', 'and', 'Alexa', 'to', 'autonomous'),\n",
       " ('and', 'Alexa', 'to', 'autonomous', 'vehicles'),\n",
       " ('Alexa', 'to', 'autonomous', 'vehicles', 'and'),\n",
       " ('to', 'autonomous', 'vehicles', 'and', 'advanced'),\n",
       " ('autonomous', 'vehicles', 'and', 'advanced', 'robotics'),\n",
       " ('vehicles', 'and', 'advanced', 'robotics', '.'),\n",
       " ('and', 'advanced', 'robotics', '.', 'The'),\n",
       " ('advanced', 'robotics', '.', 'The', 'goal'),\n",
       " ('robotics', '.', 'The', 'goal', 'of'),\n",
       " ('.', 'The', 'goal', 'of', 'AI'),\n",
       " ('The', 'goal', 'of', 'AI', 'is'),\n",
       " ('goal', 'of', 'AI', 'is', 'to'),\n",
       " ('of', 'AI', 'is', 'to', 'build'),\n",
       " ('AI', 'is', 'to', 'build', 'systems'),\n",
       " ('is', 'to', 'build', 'systems', 'that'),\n",
       " ('to', 'build', 'systems', 'that', 'can'),\n",
       " ('build', 'systems', 'that', 'can', 'perform'),\n",
       " ('systems', 'that', 'can', 'perform', 'tasks'),\n",
       " ('that', 'can', 'perform', 'tasks', 'that'),\n",
       " ('can', 'perform', 'tasks', 'that', 'typically'),\n",
       " ('perform', 'tasks', 'that', 'typically', 'require'),\n",
       " ('tasks', 'that', 'typically', 'require', 'human'),\n",
       " ('that', 'typically', 'require', 'human', 'intelligence'),\n",
       " ('typically', 'require', 'human', 'intelligence', '.'),\n",
       " ('require', 'human', 'intelligence', '.', 'Machine'),\n",
       " ('human', 'intelligence', '.', 'Machine', 'Learning'),\n",
       " ('intelligence', '.', 'Machine', 'Learning', '('),\n",
       " ('.', 'Machine', 'Learning', '(', 'ML'),\n",
       " ('Machine', 'Learning', '(', 'ML', ')'),\n",
       " ('Learning', '(', 'ML', ')', 'is'),\n",
       " ('(', 'ML', ')', 'is', 'a'),\n",
       " ('ML', ')', 'is', 'a', 'subset'),\n",
       " (')', 'is', 'a', 'subset', 'of'),\n",
       " ('is', 'a', 'subset', 'of', 'AI'),\n",
       " ('a', 'subset', 'of', 'AI', 'that'),\n",
       " ('subset', 'of', 'AI', 'that', 'focuses'),\n",
       " ('of', 'AI', 'that', 'focuses', 'on'),\n",
       " ('AI', 'that', 'focuses', 'on', 'building'),\n",
       " ('that', 'focuses', 'on', 'building', 'systems'),\n",
       " ('focuses', 'on', 'building', 'systems', 'that'),\n",
       " ('on', 'building', 'systems', 'that', 'learn'),\n",
       " ('building', 'systems', 'that', 'learn', 'from'),\n",
       " ('systems', 'that', 'learn', 'from', 'data'),\n",
       " ('that', 'learn', 'from', 'data', 'and'),\n",
       " ('learn', 'from', 'data', 'and', 'improve'),\n",
       " ('from', 'data', 'and', 'improve', 'over'),\n",
       " ('data', 'and', 'improve', 'over', 'time'),\n",
       " ('and', 'improve', 'over', 'time', 'without'),\n",
       " ('improve', 'over', 'time', 'without', 'being'),\n",
       " ('over', 'time', 'without', 'being', 'explicitly'),\n",
       " ('time', 'without', 'being', 'explicitly', 'programmed'),\n",
       " ('without', 'being', 'explicitly', 'programmed', '.'),\n",
       " ('being', 'explicitly', 'programmed', '.', 'Instead'),\n",
       " ('explicitly', 'programmed', '.', 'Instead', 'of'),\n",
       " ('programmed', '.', 'Instead', 'of', 'writing'),\n",
       " ('.', 'Instead', 'of', 'writing', 'detailed'),\n",
       " ('Instead', 'of', 'writing', 'detailed', 'instructions'),\n",
       " ('of', 'writing', 'detailed', 'instructions', 'for'),\n",
       " ('writing', 'detailed', 'instructions', 'for', 'every'),\n",
       " ('detailed', 'instructions', 'for', 'every', 'task'),\n",
       " ('instructions', 'for', 'every', 'task', ','),\n",
       " ('for', 'every', 'task', ',', 'ML'),\n",
       " ('every', 'task', ',', 'ML', 'algorithms'),\n",
       " ('task', ',', 'ML', 'algorithms', 'use'),\n",
       " (',', 'ML', 'algorithms', 'use', 'patterns'),\n",
       " ('ML', 'algorithms', 'use', 'patterns', 'in'),\n",
       " ('algorithms', 'use', 'patterns', 'in', 'data'),\n",
       " ('use', 'patterns', 'in', 'data', 'to'),\n",
       " ('patterns', 'in', 'data', 'to', 'make'),\n",
       " ('in', 'data', 'to', 'make', 'predictions'),\n",
       " ('data', 'to', 'make', 'predictions', 'or'),\n",
       " ('to', 'make', 'predictions', 'or', 'decisions'),\n",
       " ('make', 'predictions', 'or', 'decisions', '.'),\n",
       " ('predictions', 'or', 'decisions', '.', 'ML'),\n",
       " ('or', 'decisions', '.', 'ML', 'is'),\n",
       " ('decisions', '.', 'ML', 'is', 'used'),\n",
       " ('.', 'ML', 'is', 'used', 'in'),\n",
       " ('ML', 'is', 'used', 'in', 'recommendation'),\n",
       " ('is', 'used', 'in', 'recommendation', 'systems'),\n",
       " ('used', 'in', 'recommendation', 'systems', 'like'),\n",
       " ('in', 'recommendation', 'systems', 'like', 'Netflix'),\n",
       " ('recommendation', 'systems', 'like', 'Netflix', 'or'),\n",
       " ('systems', 'like', 'Netflix', 'or', 'Amazon'),\n",
       " ('like', 'Netflix', 'or', 'Amazon', ','),\n",
       " ('Netflix', 'or', 'Amazon', ',', 'fraud'),\n",
       " ('or', 'Amazon', ',', 'fraud', 'detection'),\n",
       " ('Amazon', ',', 'fraud', 'detection', ','),\n",
       " (',', 'fraud', 'detection', ',', 'image'),\n",
       " ('fraud', 'detection', ',', 'image', 'recognition'),\n",
       " ('detection', ',', 'image', 'recognition', ','),\n",
       " (',', 'image', 'recognition', ',', 'and'),\n",
       " ('image', 'recognition', ',', 'and', 'more'),\n",
       " ('recognition', ',', 'and', 'more', '.'),\n",
       " (',', 'and', 'more', '.', 'It'),\n",
       " ('and', 'more', '.', 'It', 'includes'),\n",
       " ('more', '.', 'It', 'includes', 'various'),\n",
       " ('.', 'It', 'includes', 'various', 'types'),\n",
       " ('It', 'includes', 'various', 'types', 'like'),\n",
       " ('includes', 'various', 'types', 'like', 'supervised'),\n",
       " ('various', 'types', 'like', 'supervised', 'learning'),\n",
       " ('types', 'like', 'supervised', 'learning', ','),\n",
       " ('like', 'supervised', 'learning', ',', 'unsupervised'),\n",
       " ('supervised', 'learning', ',', 'unsupervised', 'learning'),\n",
       " ('learning', ',', 'unsupervised', 'learning', ','),\n",
       " (',', 'unsupervised', 'learning', ',', 'and'),\n",
       " ('unsupervised', 'learning', ',', 'and', 'reinforcement'),\n",
       " ('learning', ',', 'and', 'reinforcement', 'learning'),\n",
       " (',', 'and', 'reinforcement', 'learning', '.'),\n",
       " ('and', 'reinforcement', 'learning', '.', 'Deep'),\n",
       " ('reinforcement', 'learning', '.', 'Deep', 'Learning'),\n",
       " ('learning', '.', 'Deep', 'Learning', '('),\n",
       " ('.', 'Deep', 'Learning', '(', 'DL'),\n",
       " ('Deep', 'Learning', '(', 'DL', ')'),\n",
       " ('Learning', '(', 'DL', ')', 'is'),\n",
       " ('(', 'DL', ')', 'is', 'a'),\n",
       " ('DL', ')', 'is', 'a', 'further'),\n",
       " (')', 'is', 'a', 'further', 'subset'),\n",
       " ('is', 'a', 'further', 'subset', 'of'),\n",
       " ('a', 'further', 'subset', 'of', 'ML'),\n",
       " ('further', 'subset', 'of', 'ML', 'that'),\n",
       " ('subset', 'of', 'ML', 'that', 'uses'),\n",
       " ('of', 'ML', 'that', 'uses', 'neural'),\n",
       " ('ML', 'that', 'uses', 'neural', 'networks'),\n",
       " ('that', 'uses', 'neural', 'networks', 'with'),\n",
       " ('uses', 'neural', 'networks', 'with', 'many'),\n",
       " ('neural', 'networks', 'with', 'many', 'layers'),\n",
       " ('networks', 'with', 'many', 'layers', ','),\n",
       " ('with', 'many', 'layers', ',', 'hence'),\n",
       " ('many', 'layers', ',', 'hence', 'the'),\n",
       " ('layers', ',', 'hence', 'the', 'term'),\n",
       " (',', 'hence', 'the', 'term', 'deep'),\n",
       " ('hence', 'the', 'term', 'deep', '.'),\n",
       " ('the', 'term', 'deep', '.', 'These'),\n",
       " ('term', 'deep', '.', 'These', 'networks'),\n",
       " ('deep', '.', 'These', 'networks', 'are'),\n",
       " ('.', 'These', 'networks', 'are', 'particularly'),\n",
       " ('These', 'networks', 'are', 'particularly', 'powerful'),\n",
       " ('networks', 'are', 'particularly', 'powerful', 'for'),\n",
       " ('are', 'particularly', 'powerful', 'for', 'working'),\n",
       " ('particularly', 'powerful', 'for', 'working', 'with'),\n",
       " ('powerful', 'for', 'working', 'with', 'large'),\n",
       " ('for', 'working', 'with', 'large', 'amounts'),\n",
       " ('working', 'with', 'large', 'amounts', 'of'),\n",
       " ('with', 'large', 'amounts', 'of', 'unstructured'),\n",
       " ('large', 'amounts', 'of', 'unstructured', 'data'),\n",
       " ('amounts', 'of', 'unstructured', 'data', 'such'),\n",
       " ('of', 'unstructured', 'data', 'such', 'as'),\n",
       " ('unstructured', 'data', 'such', 'as', 'images'),\n",
       " ('data', 'such', 'as', 'images', ','),\n",
       " ('such', 'as', 'images', ',', 'audio'),\n",
       " ('as', 'images', ',', 'audio', ','),\n",
       " ('images', ',', 'audio', ',', 'and'),\n",
       " (',', 'audio', ',', 'and', 'text'),\n",
       " ('audio', ',', 'and', 'text', '.'),\n",
       " (',', 'and', 'text', '.', 'Deep'),\n",
       " ('and', 'text', '.', 'Deep', 'learning'),\n",
       " ('text', '.', 'Deep', 'learning', 'has'),\n",
       " ('.', 'Deep', 'learning', 'has', 'driven'),\n",
       " ('Deep', 'learning', 'has', 'driven', 'many'),\n",
       " ('learning', 'has', 'driven', 'many', 'recent'),\n",
       " ('has', 'driven', 'many', 'recent', 'AI'),\n",
       " ('driven', 'many', 'recent', 'AI', 'breakthroughs'),\n",
       " ('many', 'recent', 'AI', 'breakthroughs', ','),\n",
       " ('recent', 'AI', 'breakthroughs', ',', 'including'),\n",
       " ('AI', 'breakthroughs', ',', 'including', 'advanced'),\n",
       " ('breakthroughs', ',', 'including', 'advanced', 'voice'),\n",
       " (',', 'including', 'advanced', 'voice', 'recognition'),\n",
       " ('including', 'advanced', 'voice', 'recognition', ','),\n",
       " ('advanced', 'voice', 'recognition', ',', 'real-time'),\n",
       " ('voice', 'recognition', ',', 'real-time', 'language'),\n",
       " ('recognition', ',', 'real-time', 'language', 'translation'),\n",
       " (',', 'real-time', 'language', 'translation', ','),\n",
       " ('real-time', 'language', 'translation', ',', 'and'),\n",
       " ('language', 'translation', ',', 'and', 'self-driving'),\n",
       " ('translation', ',', 'and', 'self-driving', 'cars'),\n",
       " (',', 'and', 'self-driving', 'cars', '.'),\n",
       " ('and', 'self-driving', 'cars', '.', 'Techniques'),\n",
       " ('self-driving', 'cars', '.', 'Techniques', 'like'),\n",
       " ('cars', '.', 'Techniques', 'like', 'convolutional'),\n",
       " ('.', 'Techniques', 'like', 'convolutional', 'neural'),\n",
       " ('Techniques', 'like', 'convolutional', 'neural', 'networks'),\n",
       " ('like', 'convolutional', 'neural', 'networks', 'for'),\n",
       " ('convolutional', 'neural', 'networks', 'for', 'image'),\n",
       " ('neural', 'networks', 'for', 'image', 'processing'),\n",
       " ('networks', 'for', 'image', 'processing', 'and'),\n",
       " ('for', 'image', 'processing', 'and', 'recurrent'),\n",
       " ('image', 'processing', 'and', 'recurrent', 'neural'),\n",
       " ('processing', 'and', 'recurrent', 'neural', 'networks'),\n",
       " ('and', 'recurrent', 'neural', 'networks', 'for'),\n",
       " ('recurrent', 'neural', 'networks', 'for', 'sequential'),\n",
       " ('neural', 'networks', 'for', 'sequential', 'data'),\n",
       " ('networks', 'for', 'sequential', 'data', 'are'),\n",
       " ('for', 'sequential', 'data', 'are', 'common'),\n",
       " ('sequential', 'data', 'are', 'common', 'in'),\n",
       " ('data', 'are', 'common', 'in', 'deep'),\n",
       " ('are', 'common', 'in', 'deep', 'learning'),\n",
       " ('common', 'in', 'deep', 'learning', '.')]"
      ]
     },
     "execution_count": 34,
     "metadata": {},
     "output_type": "execute_result"
    }
   ],
   "source": [
    "quotes_bigrams=list(nltk.ngrams(tokens,5))\n",
    "quotes_bigrams"
   ]
  },
  {
   "cell_type": "code",
   "execution_count": 35,
   "metadata": {
    "id": "tQZr3JFxB4Gf"
   },
   "outputs": [],
   "source": [
    "#stemming:\n",
    "from nltk.stem import PorterStemmer\n",
    "pst=PorterStemmer()"
   ]
  },
  {
   "cell_type": "code",
   "execution_count": 36,
   "metadata": {
    "colab": {
     "base_uri": "https://localhost:8080/",
     "height": 36
    },
    "id": "XArJA4tDB_Jw",
    "outputId": "dfb8c12f-9409-4b47-efa7-983712f47274"
   },
   "outputs": [
    {
     "data": {
      "application/vnd.google.colaboratory.intrinsic+json": {
       "type": "string"
      },
      "text/plain": [
       "'have'"
      ]
     },
     "execution_count": 36,
     "metadata": {},
     "output_type": "execute_result"
    }
   ],
   "source": [
    "pst.stem(\"having\")"
   ]
  },
  {
   "cell_type": "code",
   "execution_count": 37,
   "metadata": {
    "colab": {
     "base_uri": "https://localhost:8080/"
    },
    "id": "Lu8U3oo0B_ms",
    "outputId": "9997439b-fec1-47e7-c678-a0a43b5d1842"
   },
   "outputs": [
    {
     "name": "stdout",
     "output_type": "stream",
     "text": [
      "give:give\n",
      "given:given\n",
      "gave:gave\n",
      "giving:give\n"
     ]
    }
   ],
   "source": [
    "words_to_stem=[\"give\" , \"given\",\"gave\",\"giving\"]\n",
    "for words in words_to_stem:\n",
    "  print(words+\":\"+pst.stem(words))"
   ]
  },
  {
   "cell_type": "code",
   "execution_count": 38,
   "metadata": {
    "colab": {
     "base_uri": "https://localhost:8080/"
    },
    "id": "pZVtTKQNCBmK",
    "outputId": "45e47dc0-099c-45f3-b66c-c6838c5613ab"
   },
   "outputs": [
    {
     "name": "stdout",
     "output_type": "stream",
     "text": [
      "give:giv\n",
      "given:giv\n",
      "gave:gav\n",
      "giving:giv\n"
     ]
    }
   ],
   "source": [
    "#LancasterStemmer (least prefered):\n",
    "from nltk.stem import LancasterStemmer\n",
    "lst=LancasterStemmer()\n",
    "for words in words_to_stem:\n",
    "  print(words+\":\"+lst.stem(words))"
   ]
  },
  {
   "cell_type": "code",
   "execution_count": 39,
   "metadata": {
    "colab": {
     "base_uri": "https://localhost:8080/"
    },
    "id": "I2r7loKSCDw1",
    "outputId": "043906ba-a2da-4fcb-f78f-0dfead785806"
   },
   "outputs": [
    {
     "name": "stdout",
     "output_type": "stream",
     "text": [
      "give:give\n",
      "given:given\n",
      "gave:gave\n",
      "giving:give\n"
     ]
    }
   ],
   "source": [
    "from nltk.stem import SnowballStemmer\n",
    "sbst=SnowballStemmer('english')\n",
    "for words in words_to_stem:\n",
    "  print(words+\":\"+sbst.stem(words))"
   ]
  },
  {
   "cell_type": "code",
   "execution_count": 40,
   "metadata": {
    "colab": {
     "base_uri": "https://localhost:8080/"
    },
    "id": "R8Rzp2IMCGqf",
    "outputId": "feb373a2-942b-47f7-cfa3-86ae9986fe24"
   },
   "outputs": [
    {
     "name": "stderr",
     "output_type": "stream",
     "text": [
      "[nltk_data] Downloading package wordnet to /root/nltk_data...\n",
      "[nltk_data]   Package wordnet is already up-to-date!\n"
     ]
    },
    {
     "data": {
      "text/plain": [
       "True"
      ]
     },
     "execution_count": 40,
     "metadata": {},
     "output_type": "execute_result"
    }
   ],
   "source": [
    "##Lemmatization:\n",
    "nltk.download('wordnet')"
   ]
  },
  {
   "cell_type": "code",
   "execution_count": 41,
   "metadata": {
    "id": "SYpTRdkTCIe5"
   },
   "outputs": [],
   "source": [
    "from nltk.stem import wordnet\n",
    "from nltk.stem import WordNetLemmatizer\n",
    "lemmatizer=WordNetLemmatizer()"
   ]
  },
  {
   "cell_type": "code",
   "execution_count": 42,
   "metadata": {
    "colab": {
     "base_uri": "https://localhost:8080/",
     "height": 36
    },
    "id": "lptfUYwfCKV8",
    "outputId": "e28ece2c-97a6-40d9-9bc0-c2f1a0a849f9"
   },
   "outputs": [
    {
     "data": {
      "application/vnd.google.colaboratory.intrinsic+json": {
       "type": "string"
      },
      "text/plain": [
       "'corpus'"
      ]
     },
     "execution_count": 42,
     "metadata": {},
     "output_type": "execute_result"
    }
   ],
   "source": [
    "lemmatizer.lemmatize(\"corpora\")"
   ]
  },
  {
   "cell_type": "code",
   "execution_count": 43,
   "metadata": {
    "id": "b15MOjVtCMmB"
   },
   "outputs": [],
   "source": [
    "#stopwords:\n",
    "from nltk.corpus import stopwords"
   ]
  },
  {
   "cell_type": "code",
   "execution_count": 44,
   "metadata": {
    "colab": {
     "base_uri": "https://localhost:8080/"
    },
    "id": "As27KkAGCPcr",
    "outputId": "df77e093-0eae-475e-855c-92e9d1bee65e"
   },
   "outputs": [
    {
     "data": {
      "text/plain": [
       "['a',\n",
       " 'about',\n",
       " 'above',\n",
       " 'after',\n",
       " 'again',\n",
       " 'against',\n",
       " 'ain',\n",
       " 'all',\n",
       " 'am',\n",
       " 'an',\n",
       " 'and',\n",
       " 'any',\n",
       " 'are',\n",
       " 'aren',\n",
       " \"aren't\",\n",
       " 'as',\n",
       " 'at',\n",
       " 'be',\n",
       " 'because',\n",
       " 'been',\n",
       " 'before',\n",
       " 'being',\n",
       " 'below',\n",
       " 'between',\n",
       " 'both',\n",
       " 'but',\n",
       " 'by',\n",
       " 'can',\n",
       " 'couldn',\n",
       " \"couldn't\",\n",
       " 'd',\n",
       " 'did',\n",
       " 'didn',\n",
       " \"didn't\",\n",
       " 'do',\n",
       " 'does',\n",
       " 'doesn',\n",
       " \"doesn't\",\n",
       " 'doing',\n",
       " 'don',\n",
       " \"don't\",\n",
       " 'down',\n",
       " 'during',\n",
       " 'each',\n",
       " 'few',\n",
       " 'for',\n",
       " 'from',\n",
       " 'further',\n",
       " 'had',\n",
       " 'hadn',\n",
       " \"hadn't\",\n",
       " 'has',\n",
       " 'hasn',\n",
       " \"hasn't\",\n",
       " 'have',\n",
       " 'haven',\n",
       " \"haven't\",\n",
       " 'having',\n",
       " 'he',\n",
       " \"he'd\",\n",
       " \"he'll\",\n",
       " 'her',\n",
       " 'here',\n",
       " 'hers',\n",
       " 'herself',\n",
       " \"he's\",\n",
       " 'him',\n",
       " 'himself',\n",
       " 'his',\n",
       " 'how',\n",
       " 'i',\n",
       " \"i'd\",\n",
       " 'if',\n",
       " \"i'll\",\n",
       " \"i'm\",\n",
       " 'in',\n",
       " 'into',\n",
       " 'is',\n",
       " 'isn',\n",
       " \"isn't\",\n",
       " 'it',\n",
       " \"it'd\",\n",
       " \"it'll\",\n",
       " \"it's\",\n",
       " 'its',\n",
       " 'itself',\n",
       " \"i've\",\n",
       " 'just',\n",
       " 'll',\n",
       " 'm',\n",
       " 'ma',\n",
       " 'me',\n",
       " 'mightn',\n",
       " \"mightn't\",\n",
       " 'more',\n",
       " 'most',\n",
       " 'mustn',\n",
       " \"mustn't\",\n",
       " 'my',\n",
       " 'myself',\n",
       " 'needn',\n",
       " \"needn't\",\n",
       " 'no',\n",
       " 'nor',\n",
       " 'not',\n",
       " 'now',\n",
       " 'o',\n",
       " 'of',\n",
       " 'off',\n",
       " 'on',\n",
       " 'once',\n",
       " 'only',\n",
       " 'or',\n",
       " 'other',\n",
       " 'our',\n",
       " 'ours',\n",
       " 'ourselves',\n",
       " 'out',\n",
       " 'over',\n",
       " 'own',\n",
       " 're',\n",
       " 's',\n",
       " 'same',\n",
       " 'shan',\n",
       " \"shan't\",\n",
       " 'she',\n",
       " \"she'd\",\n",
       " \"she'll\",\n",
       " \"she's\",\n",
       " 'should',\n",
       " 'shouldn',\n",
       " \"shouldn't\",\n",
       " \"should've\",\n",
       " 'so',\n",
       " 'some',\n",
       " 'such',\n",
       " 't',\n",
       " 'than',\n",
       " 'that',\n",
       " \"that'll\",\n",
       " 'the',\n",
       " 'their',\n",
       " 'theirs',\n",
       " 'them',\n",
       " 'themselves',\n",
       " 'then',\n",
       " 'there',\n",
       " 'these',\n",
       " 'they',\n",
       " \"they'd\",\n",
       " \"they'll\",\n",
       " \"they're\",\n",
       " \"they've\",\n",
       " 'this',\n",
       " 'those',\n",
       " 'through',\n",
       " 'to',\n",
       " 'too',\n",
       " 'under',\n",
       " 'until',\n",
       " 'up',\n",
       " 've',\n",
       " 'very',\n",
       " 'was',\n",
       " 'wasn',\n",
       " \"wasn't\",\n",
       " 'we',\n",
       " \"we'd\",\n",
       " \"we'll\",\n",
       " \"we're\",\n",
       " 'were',\n",
       " 'weren',\n",
       " \"weren't\",\n",
       " \"we've\",\n",
       " 'what',\n",
       " 'when',\n",
       " 'where',\n",
       " 'which',\n",
       " 'while',\n",
       " 'who',\n",
       " 'whom',\n",
       " 'why',\n",
       " 'will',\n",
       " 'with',\n",
       " 'won',\n",
       " \"won't\",\n",
       " 'wouldn',\n",
       " \"wouldn't\",\n",
       " 'y',\n",
       " 'you',\n",
       " \"you'd\",\n",
       " \"you'll\",\n",
       " 'your',\n",
       " \"you're\",\n",
       " 'yours',\n",
       " 'yourself',\n",
       " 'yourselves',\n",
       " \"you've\"]"
      ]
     },
     "execution_count": 44,
     "metadata": {},
     "output_type": "execute_result"
    }
   ],
   "source": [
    "stopwords.words('english')"
   ]
  },
  {
   "cell_type": "code",
   "execution_count": 45,
   "metadata": {
    "colab": {
     "base_uri": "https://localhost:8080/"
    },
    "id": "G52oRGtVCRA_",
    "outputId": "56347c35-4c5d-43dc-97a9-6f5e37eedaa3"
   },
   "outputs": [
    {
     "data": {
      "text/plain": [
       "198"
      ]
     },
     "execution_count": 45,
     "metadata": {},
     "output_type": "execute_result"
    }
   ],
   "source": [
    "len(stopwords.words('english'))"
   ]
  },
  {
   "cell_type": "code",
   "execution_count": 46,
   "metadata": {
    "id": "4IrnTTa5CUh0"
   },
   "outputs": [],
   "source": [
    "#punctuations:\n",
    "import re\n",
    "punctuation=re.compile (r'[-.?!,:;()|0-9]')\n"
   ]
  },
  {
   "cell_type": "code",
   "execution_count": 48,
   "metadata": {
    "id": "FYAKfM58CV8Q"
   },
   "outputs": [],
   "source": [
    "post_punctuation=[]\n",
    "for words in tokens:\n",
    "  word=punctuation.sub(\"\",words)\n",
    "  if len(word)>0:\n",
    "    post_punctuation.append(word)"
   ]
  },
  {
   "cell_type": "code",
   "execution_count": 49,
   "metadata": {
    "colab": {
     "base_uri": "https://localhost:8080/"
    },
    "id": "u-cdpqkQCXlf",
    "outputId": "c564d6f4-150a-409c-9b49-c0c4a9b419ba"
   },
   "outputs": [
    {
     "data": {
      "text/plain": [
       "['Artificial',\n",
       " 'Intelligence',\n",
       " 'AI',\n",
       " 'refers',\n",
       " 'to',\n",
       " 'the',\n",
       " 'broader',\n",
       " 'concept',\n",
       " 'of',\n",
       " 'machines',\n",
       " 'being',\n",
       " 'able',\n",
       " 'to',\n",
       " 'carry',\n",
       " 'out',\n",
       " 'tasks',\n",
       " 'in',\n",
       " 'a',\n",
       " 'way',\n",
       " 'that',\n",
       " 'we',\n",
       " 'would',\n",
       " 'consider',\n",
       " 'smart',\n",
       " 'AI',\n",
       " 'is',\n",
       " 'an',\n",
       " 'umbrella',\n",
       " 'term',\n",
       " 'for',\n",
       " 'any',\n",
       " 'technique',\n",
       " 'that',\n",
       " 'enables',\n",
       " 'computers',\n",
       " 'to',\n",
       " 'mimic',\n",
       " 'human',\n",
       " 'intelligence',\n",
       " 'including',\n",
       " 'reasoning',\n",
       " 'problemsolving',\n",
       " 'understanding',\n",
       " 'language',\n",
       " 'and',\n",
       " 'perception',\n",
       " 'It',\n",
       " 'can',\n",
       " 'be',\n",
       " 'rulebased',\n",
       " 'like',\n",
       " 'expert',\n",
       " 'systems',\n",
       " 'or',\n",
       " 'learningbased',\n",
       " 'Applications',\n",
       " 'of',\n",
       " 'AI',\n",
       " 'range',\n",
       " 'from',\n",
       " 'virtual',\n",
       " 'assistants',\n",
       " 'like',\n",
       " 'Siri',\n",
       " 'and',\n",
       " 'Alexa',\n",
       " 'to',\n",
       " 'autonomous',\n",
       " 'vehicles',\n",
       " 'and',\n",
       " 'advanced',\n",
       " 'robotics',\n",
       " 'The',\n",
       " 'goal',\n",
       " 'of',\n",
       " 'AI',\n",
       " 'is',\n",
       " 'to',\n",
       " 'build',\n",
       " 'systems',\n",
       " 'that',\n",
       " 'can',\n",
       " 'perform',\n",
       " 'tasks',\n",
       " 'that',\n",
       " 'typically',\n",
       " 'require',\n",
       " 'human',\n",
       " 'intelligence',\n",
       " 'Machine',\n",
       " 'Learning',\n",
       " 'ML',\n",
       " 'is',\n",
       " 'a',\n",
       " 'subset',\n",
       " 'of',\n",
       " 'AI',\n",
       " 'that',\n",
       " 'focuses',\n",
       " 'on',\n",
       " 'building',\n",
       " 'systems',\n",
       " 'that',\n",
       " 'learn',\n",
       " 'from',\n",
       " 'data',\n",
       " 'and',\n",
       " 'improve',\n",
       " 'over',\n",
       " 'time',\n",
       " 'without',\n",
       " 'being',\n",
       " 'explicitly',\n",
       " 'programmed',\n",
       " 'Instead',\n",
       " 'of',\n",
       " 'writing',\n",
       " 'detailed',\n",
       " 'instructions',\n",
       " 'for',\n",
       " 'every',\n",
       " 'task',\n",
       " 'ML',\n",
       " 'algorithms',\n",
       " 'use',\n",
       " 'patterns',\n",
       " 'in',\n",
       " 'data',\n",
       " 'to',\n",
       " 'make',\n",
       " 'predictions',\n",
       " 'or',\n",
       " 'decisions',\n",
       " 'ML',\n",
       " 'is',\n",
       " 'used',\n",
       " 'in',\n",
       " 'recommendation',\n",
       " 'systems',\n",
       " 'like',\n",
       " 'Netflix',\n",
       " 'or',\n",
       " 'Amazon',\n",
       " 'fraud',\n",
       " 'detection',\n",
       " 'image',\n",
       " 'recognition',\n",
       " 'and',\n",
       " 'more',\n",
       " 'It',\n",
       " 'includes',\n",
       " 'various',\n",
       " 'types',\n",
       " 'like',\n",
       " 'supervised',\n",
       " 'learning',\n",
       " 'unsupervised',\n",
       " 'learning',\n",
       " 'and',\n",
       " 'reinforcement',\n",
       " 'learning',\n",
       " 'Deep',\n",
       " 'Learning',\n",
       " 'DL',\n",
       " 'is',\n",
       " 'a',\n",
       " 'further',\n",
       " 'subset',\n",
       " 'of',\n",
       " 'ML',\n",
       " 'that',\n",
       " 'uses',\n",
       " 'neural',\n",
       " 'networks',\n",
       " 'with',\n",
       " 'many',\n",
       " 'layers',\n",
       " 'hence',\n",
       " 'the',\n",
       " 'term',\n",
       " 'deep',\n",
       " 'These',\n",
       " 'networks',\n",
       " 'are',\n",
       " 'particularly',\n",
       " 'powerful',\n",
       " 'for',\n",
       " 'working',\n",
       " 'with',\n",
       " 'large',\n",
       " 'amounts',\n",
       " 'of',\n",
       " 'unstructured',\n",
       " 'data',\n",
       " 'such',\n",
       " 'as',\n",
       " 'images',\n",
       " 'audio',\n",
       " 'and',\n",
       " 'text',\n",
       " 'Deep',\n",
       " 'learning',\n",
       " 'has',\n",
       " 'driven',\n",
       " 'many',\n",
       " 'recent',\n",
       " 'AI',\n",
       " 'breakthroughs',\n",
       " 'including',\n",
       " 'advanced',\n",
       " 'voice',\n",
       " 'recognition',\n",
       " 'realtime',\n",
       " 'language',\n",
       " 'translation',\n",
       " 'and',\n",
       " 'selfdriving',\n",
       " 'cars',\n",
       " 'Techniques',\n",
       " 'like',\n",
       " 'convolutional',\n",
       " 'neural',\n",
       " 'networks',\n",
       " 'for',\n",
       " 'image',\n",
       " 'processing',\n",
       " 'and',\n",
       " 'recurrent',\n",
       " 'neural',\n",
       " 'networks',\n",
       " 'for',\n",
       " 'sequential',\n",
       " 'data',\n",
       " 'are',\n",
       " 'common',\n",
       " 'in',\n",
       " 'deep',\n",
       " 'learning']"
      ]
     },
     "execution_count": 49,
     "metadata": {},
     "output_type": "execute_result"
    }
   ],
   "source": [
    "post_punctuation"
   ]
  },
  {
   "cell_type": "code",
   "execution_count": 51,
   "metadata": {
    "id": "zQGd1wNKCa6H"
   },
   "outputs": [],
   "source": [
    "#Parts of speech:\n",
    "sent=\"Robert is a goog boy like me.\"\n",
    "sent_tokens=word_tokenize(sent)"
   ]
  },
  {
   "cell_type": "code",
   "execution_count": 52,
   "metadata": {
    "colab": {
     "base_uri": "https://localhost:8080/"
    },
    "id": "4M0Rf5HMCeU2",
    "outputId": "c1c857bb-5721-466f-ecc1-8d7fcb301e4d"
   },
   "outputs": [
    {
     "name": "stdout",
     "output_type": "stream",
     "text": [
      "[('Robert', 'NNP')]\n",
      "[('is', 'VBZ')]\n",
      "[('a', 'DT')]\n",
      "[('goog', 'NN')]\n",
      "[('boy', 'NN')]\n",
      "[('like', 'IN')]\n",
      "[('me', 'PRP')]\n",
      "[('.', '.')]\n"
     ]
    }
   ],
   "source": [
    "for token in sent_tokens:\n",
    "  print(nltk.pos_tag([token]))"
   ]
  },
  {
   "cell_type": "code",
   "execution_count": 53,
   "metadata": {
    "colab": {
     "base_uri": "https://localhost:8080/"
    },
    "id": "1G5ZEzLUCl1H",
    "outputId": "bb60d562-feef-4b72-df19-774f423e07c2"
   },
   "outputs": [
    {
     "name": "stderr",
     "output_type": "stream",
     "text": [
      "[nltk_data] Downloading package maxent_ne_chunker to\n",
      "[nltk_data]     /root/nltk_data...\n",
      "[nltk_data]   Package maxent_ne_chunker is already up-to-date!\n"
     ]
    },
    {
     "data": {
      "text/plain": [
       "True"
      ]
     },
     "execution_count": 53,
     "metadata": {},
     "output_type": "execute_result"
    }
   ],
   "source": [
    "#chunking:\n",
    "\n",
    "nltk.download('maxent_ne_chunker')"
   ]
  },
  {
   "cell_type": "code",
   "execution_count": 54,
   "metadata": {
    "colab": {
     "base_uri": "https://localhost:8080/"
    },
    "id": "PqWK7rLmCn88",
    "outputId": "2f333832-f4b2-47dc-d774-1e2fe3a3a264"
   },
   "outputs": [
    {
     "name": "stderr",
     "output_type": "stream",
     "text": [
      "[nltk_data] Downloading package words to /root/nltk_data...\n",
      "[nltk_data]   Package words is already up-to-date!\n"
     ]
    },
    {
     "data": {
      "text/plain": [
       "True"
      ]
     },
     "execution_count": 54,
     "metadata": {},
     "output_type": "execute_result"
    }
   ],
   "source": [
    "nltk.download('words')"
   ]
  },
  {
   "cell_type": "code",
   "execution_count": 55,
   "metadata": {
    "id": "Zbf-XO2qCqHq"
   },
   "outputs": [],
   "source": [
    "from nltk import ne_chunk"
   ]
  },
  {
   "cell_type": "code",
   "execution_count": 57,
   "metadata": {
    "colab": {
     "base_uri": "https://localhost:8080/"
    },
    "id": "tWZU4u9rCrnA",
    "outputId": "9b9806f9-9040-4ac4-820d-73600fab440b"
   },
   "outputs": [
    {
     "name": "stdout",
     "output_type": "stream",
     "text": [
      "(S\n",
      "  Mr.Narendra/NNP\n",
      "  Modi/NNP\n",
      "  is/VBZ\n",
      "  the/DT\n",
      "  Prime/NNP\n",
      "  Minister/NNP\n",
      "  of/IN\n",
      "  (GPE India/NNP))\n"
     ]
    }
   ],
   "source": [
    "NE_sent=\"Mr.Narendra Modi is the Prime Minister of India\"\n",
    "NE_sent_tokens=word_tokenize(NE_sent)\n",
    "NE_tags=nltk.pos_tag(NE_sent_tokens)\n",
    "NE_NER=ne_chunk(NE_tags)\n",
    "print(NE_NER)"
   ]
  },
  {
   "cell_type": "code",
   "execution_count": null,
   "metadata": {
    "id": "3otpebAnCtWA"
   },
   "outputs": [],
   "source": []
  }
 ],
 "metadata": {
  "colab": {
   "provenance": []
  },
  "kernelspec": {
   "display_name": "Python 3 (ipykernel)",
   "language": "python",
   "name": "python3"
  },
  "language_info": {
   "codemirror_mode": {
    "name": "ipython",
    "version": 3
   },
   "file_extension": ".py",
   "mimetype": "text/x-python",
   "name": "python",
   "nbconvert_exporter": "python",
   "pygments_lexer": "ipython3",
   "version": "3.12.7"
  }
 },
 "nbformat": 4,
 "nbformat_minor": 4
}
