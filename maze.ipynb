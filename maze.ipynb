{
 "cells": [
  {
   "cell_type": "code",
   "execution_count": 4,
   "id": "eb222617-b805-4415-b92c-da14042f3f21",
   "metadata": {},
   "outputs": [],
   "source": [
    "def solve_maze(maze,start,end):\n",
    "    stack=[(start,[start])]\n",
    "    visited=set()\n",
    "\n",
    "    while stack:\n",
    "        (x,y),path=stack.pop()\n",
    "        if (x,y)==end:\n",
    "            return path\n",
    "        visited.add((x,y))\n",
    "\n",
    "        for dx,dy in [(0,1),(1,0),(0,-1),(-1,0)]:\n",
    "            nx,ny=x+dx,y+dy\n",
    "            if 0<=nx<len(maze) and 0<=ny<len(maze[0]):\n",
    "                if maze[nx][ny]==0 and (nx,ny)not in visited:\n",
    "                    stack.append(((nx,ny),path+[(nx,ny)]))\n",
    "    return None\n",
    "        "
   ]
  },
  {
   "cell_type": "code",
   "execution_count": 5,
   "id": "ccb4c4fd-9eaf-41be-9c71-621c088a1c56",
   "metadata": {},
   "outputs": [
    {
     "name": "stdout",
     "output_type": "stream",
     "text": [
      "Path found\n",
      "[(0, 0), (1, 0), (2, 0), (2, 1), (2, 2), (3, 2), (3, 3)]\n"
     ]
    }
   ],
   "source": [
    "maze=[\n",
    "    [0,1,0,0],\n",
    "    [0,1,0,1],\n",
    "    [0,0,0,1],\n",
    "    [1,1,0,0]\n",
    "]\n",
    "start=(0,0)\n",
    "end=(3,3)\n",
    "path=solve_maze(maze,start,end)\n",
    "\n",
    "if path:\n",
    "    print(\"Path found\")\n",
    "    print(path)\n",
    "else:\n",
    "    print(\"Path not found\")"
   ]
  },
  {
   "cell_type": "code",
   "execution_count": null,
   "id": "1267dfd1-aab7-4dac-983a-1314506c8c62",
   "metadata": {},
   "outputs": [],
   "source": []
  }
 ],
 "metadata": {
  "kernelspec": {
   "display_name": "Python 3 (ipykernel)",
   "language": "python",
   "name": "python3"
  },
  "language_info": {
   "codemirror_mode": {
    "name": "ipython",
    "version": 3
   },
   "file_extension": ".py",
   "mimetype": "text/x-python",
   "name": "python",
   "nbconvert_exporter": "python",
   "pygments_lexer": "ipython3",
   "version": "3.12.7"
  }
 },
 "nbformat": 4,
 "nbformat_minor": 5
}
