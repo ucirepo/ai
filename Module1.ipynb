{
 "cells": [
  {
   "cell_type": "code",
   "execution_count": 5,
   "id": "b17995cc-e6eb-498c-bc80-d0a03c43b8f2",
   "metadata": {},
   "outputs": [
    {
     "name": "stdout",
     "output_type": "stream",
     "text": [
      "The optimal value is:10\n"
     ]
    }
   ],
   "source": [
    "#min-max\n",
    "import math \n",
    "import sys\n",
    "sys.setrecursionlimit(10000)\n",
    "\n",
    "def minimax(curDepth, nodeIndex, maxTurn, scores, targetDepth) : \n",
    "    if curDepth == targetDepth:\n",
    "        return scores[nodeIndex]\n",
    "\n",
    "    if maxTurn:\n",
    "        return max(minimax(curDepth + 1, nodeIndex * 2, False, scores, targetDepth),\n",
    "            minimax(curDepth + 1, nodeIndex * 2 + 1, False, scores, targetDepth))\n",
    "    else:\n",
    "        return min(minimax(curDepth + 1, nodeIndex * 2, True, scores, targetDepth), \n",
    "                   minimax(curDepth + 1, nodeIndex * 2 + 1, True, scores, targetDepth))\n",
    "\n",
    "\n",
    "scores = [10, 9, 14, 18, 5, 4, 50, 3]\n",
    "treeDepth = int(math.log(len(scores), 2))\n",
    "\n",
    "print('The optimal value is:', end='') \n",
    "print(minimax(0, 0, True, scores, treeDepth))\n"
   ]
  },
  {
   "cell_type": "code",
   "execution_count": 6,
   "id": "3f88fd0a-b6a4-40ea-9f06-49ca6ef69420",
   "metadata": {},
   "outputs": [
    {
     "name": "stdout",
     "output_type": "stream",
     "text": [
      "The optimal value is :  10\n"
     ]
    }
   ],
   "source": [
    "#alpha beta pruning :\n",
    "MAX , MIN =1000 , -1000\n",
    "\n",
    "def minimax(depth , nodeIndex , maximizingPlayer , values , alpha , beta):\n",
    "  if depth == 3:\n",
    "    return values[nodeIndex]\n",
    "  if maximizingPlayer:\n",
    "    best = MIN\n",
    "    for i in range(0,2):\n",
    "      val = minimax(depth + 1 , nodeIndex * 2 + i , False , values , alpha , beta)\n",
    "      best = max(best , val)\n",
    "      alpha = max(alpha , best)\n",
    "      if beta <= alpha:\n",
    "        break\n",
    "    return best\n",
    "  else:\n",
    "    best = MAX\n",
    "    for i in range(0,2):\n",
    "      val = minimax(depth + 1 , nodeIndex * 2 + i , True , values , alpha , beta)\n",
    "      best = min(best , val)\n",
    "      beta = min(beta , best)\n",
    "      if beta <= alpha:\n",
    "        break\n",
    "    return best   \n",
    "\n",
    "if __name__ == \"__main__\":\n",
    "  values = [10,9,14,18,5,4,50,3]\n",
    "  print(\"The optimal value is : \",minimax(0 , 0 , True , values , MIN , MAX))\n"
   ]
  },
  {
   "cell_type": "raw",
   "id": "dd11bffc-e7e3-4a2a-96f0-46c4c56e3cde",
   "metadata": {},
   "source": [
    "Some popular applications of Generative AI in action include:\n",
    "\n",
    "1: Generative Pre-trained Transformers or GPT, is a family of large language models developed by Open AI that are capable of producing human-like text. GPT-3.5 and GPT-4 are iterations in this family of models with more futuristic models under development. It has a wide range of applications, including chat bots powered by GPT like Chat GPT, automated journalism, and even creative writing. "
   ]
  },
  {
   "cell_type": "raw",
   "id": "65f71574-e98d-415e-abd8-ff22024faba1",
   "metadata": {},
   "source": [
    "2: ChatGPT is a chat bot or conversational AI tool by Open AI that enables users to have text-based conversations with the underlying language model, GPT. Trained on diverse internet text, it generates human-like responses, providing information, answering questions, assisting with tasks, engaging in creative writing, and offering suggestions across various subjects."
   ]
  },
  {
   "cell_type": "raw",
   "id": "0913b519-c5a2-49f2-b3cd-13ab7f2c4666",
   "metadata": {},
   "source": [
    "3: Bard is an AI-powered writing assistant from Google now renamed as Gemini that aims to assist users in producing high-quality writing for communicational documents like emails and social media posts. Bard generates text using a large language model called LaMDA (Language Model for Dialogue Applications) and can adjust to the user's preferences for style and tone. "
   ]
  },
  {
   "cell_type": "raw",
   "id": "9f887bad-731f-4132-898b-c5ff74d25daa",
   "metadata": {},
   "source": [
    "4: Watsonx from IBM is an AI and data platform, comprising Watsonx.ai for model development, Watsonx.data for scalable analytics, and Watsonx.governance for responsible AI workflows. It helps build, deploy, and manage AI applications at scale, enhancing the impact of AI across your organization."
   ]
  },
  {
   "cell_type": "raw",
   "id": "bbbcacfe-9788-4e1d-8877-a3555d095f05",
   "metadata": {},
   "source": [
    "5: DeepDream is a generative model that can generate surreal and psychedelic images from real-life images. It has been used in art and entertainment, producing some one-of-a-kind and visually stunning images."
   ]
  },
  {
   "cell_type": "raw",
   "id": "55816f1e-eedb-4e46-b755-82f9992bf7cf",
   "metadata": {},
   "source": [
    "6: StyleGAN is a generative model capable of producing high-quality images of faces that do not exist in reality. It has been used in a variety of applications, including creating realistic video game avatars and simulating human faces for medical research."
   ]
  },
  {
   "cell_type": "raw",
   "id": "c836f54a-b7e3-4381-bfab-4a3272cbca7a",
   "metadata": {},
   "source": [
    "7: AlphaFold is a generative model that can predict protein structure. It has the potential to transform drug discovery and make it possible to develop more effective treatments for diseases. "
   ]
  },
  {
   "cell_type": "raw",
   "id": "008637ac-c1f8-44f3-9473-46ffe5f6089b",
   "metadata": {},
   "source": [
    "8: Magenta is a Google project that creates music and art using generative AI. It has yielded some intriguing and impressive results, such as a piano duet performed by a human and an AI-generated piano."
   ]
  },
  {
   "cell_type": "raw",
   "id": "64f24f1f-652e-441a-8296-351cc661d276",
   "metadata": {},
   "source": [
    "9: Google AI's PaLM 2 (Pathway language model) is a powerful LLM trained on a dataset ten times larger. It excels in understanding nuances, generating coherent text and code, translating, and answering questions. Ongoing development promises to revolutionize human-computer interactions, enhancing accuracy, efficiency, creativity, and communication. "
   ]
  },
  {
   "cell_type": "raw",
   "id": "baed3f6a-9644-49cb-bb88-cb1b8b14db91",
   "metadata": {},
   "source": [
    "10: GitHub Copilot is an AI-powered coding assistant developed by Open AI and GitHub that is designed to help developers write code more efficiently. It uses a deep learning algorithm to analyze code and generate suggestions for the developer, such as auto-completing code snippets or suggesting functions based on the context of the code."
   ]
  },
  {
   "cell_type": "code",
   "execution_count": null,
   "id": "27ce1de9-cc89-4103-b356-64a50ed7fb77",
   "metadata": {},
   "outputs": [],
   "source": []
  },
  {
   "cell_type": "raw",
   "id": "6a1de967-7013-482d-86ed-9243c9e7469b",
   "metadata": {},
   "source": [
    "USE CASES\n",
    "\n",
    "In agriculture, Generative AI can optimize crop yields and create more robust plant varieties that can withstand environmental stress, pests, and diseases. "
   ]
  },
  {
   "cell_type": "raw",
   "id": "d1b8571b-de88-4c0d-afca-125432df8ab4",
   "metadata": {},
   "source": [
    "In biotechnology, Generative AI can aid in the development of new therapies and drugs by identifying potential drug targets, simulating drug interactions, and forecasting drug efficacy."
   ]
  },
  {
   "cell_type": "raw",
   "id": "6c603c88-cf4e-474f-ac6e-44559349fad9",
   "metadata": {},
   "source": [
    "In forensics, Generative AI can help solve crimes by analyzing DNA evidence and identifying suspects. "
   ]
  },
  {
   "cell_type": "raw",
   "id": "fdccfc5e-8806-4e9a-93da-3e18a21f1217",
   "metadata": {},
   "source": [
    "In environmental conservation, Generative AI can support the protection of endangered species by analyzing their genetic data and suggesting breeding and conservation strategies. "
   ]
  },
  {
   "cell_type": "raw",
   "id": "5588a63e-7716-46c2-a57f-c56eef95d927",
   "metadata": {},
   "source": [
    "In creative fields, Generative AI can produce unique digital art, music, and video content for advertising and marketing campaigns, and generate soundtracks for films or video games."
   ]
  },
  {
   "cell_type": "raw",
   "id": "a6348dbe-2366-4f8e-ac32-ca5119417b6c",
   "metadata": {},
   "source": [
    "In gaming, Generative AI can create interactive game worlds by generating new levels, characters, and objects that adapt to player behavior. "
   ]
  },
  {
   "cell_type": "raw",
   "id": "80de6e3f-da6c-4082-9782-6bc41c41dacf",
   "metadata": {},
   "source": [
    "In fashion, Generative AI can design and produce virtual try-on experiences for customers and recommend personalized fashion choices based on customer behavior and preferences. "
   ]
  },
  {
   "cell_type": "raw",
   "id": "4a128371-b551-4a9d-ab0d-b99e4c6d5854",
   "metadata": {},
   "source": [
    "In robotics, Generative AI can design new robot movements and adapt them to changing environments, enabling them to perform complex tasks."
   ]
  },
  {
   "cell_type": "raw",
   "id": "072e1263-92dd-4f0b-82c1-041ef1864445",
   "metadata": {},
   "source": [
    "In education, Generative AI can create customized learning materials and interactive learning environments that adjust to students' learning styles and paces."
   ]
  },
  {
   "cell_type": "raw",
   "id": "bd9a29d6-0da9-4f73-a833-0166b71febca",
   "metadata": {},
   "source": [
    "In data augmentation, Generative AI can produce new training data for machine learning models, enhancing their accuracy and performance."
   ]
  },
  {
   "cell_type": "raw",
   "id": "6679a396-d348-4b29-b9ef-675350c6e929",
   "metadata": {},
   "source": [
    "AI is the fusion of many fields of study. Computer science and electrical engineering determine how AI is implemented in software and hardware.\n",
    "\n",
    "Mathematics and statistics determine viable models and measure performance. \n",
    "\n",
    "Because AI is modeled on how we believe the brain works, psychology and linguistics play an essential role in understanding how AI might work. And philosophy provides guidance on intelligence and ethical considerations. \n",
    "\n",
    "Over the years, AI has proven to be useful in different domains, impacting the lives of people and our society in meaningful ways."
   ]
  },
  {
   "cell_type": "raw",
   "id": "fd2a1041-5ebc-41d2-8084-5f979cc2c7ec",
   "metadata": {},
   "source": [
    "AI Use Case or Application\n",
    "\n",
    "Based on strength, breadth, and application, AI can be described in different ways.\n",
    "\n",
    "Weak or Narrow AI is AI that is applied to a specific domain. For example, language translators, virtual assistants, self-driving cars, AI-powered web searches, recommendation engines, and intelligent spam filters. Applied AI can perform specific tasks, but not learn new ones, making decisions based on programmed algorithms, and training data.\n",
    "\n",
    "Strong AI or Generalized AI is AI that can interact and operate a wide variety of independent and unrelated tasks. It can learn new tasks to solve new problems, and it does this by teaching itself new strategies. Generalized Intelligence is the combination of many AI strategies that learn from experience and can perform at a human level of intelligence.\n",
    "\n",
    "Super AI or Conscious AI is AI with human-level consciousness, which would require it to be self-aware. Because we are not yet able to adequately define what consciousness is, it is unlikely that we will be able to create a conscious AI in the near future. "
   ]
  }
 ],
 "metadata": {
  "kernelspec": {
   "display_name": "Python 3 (ipykernel)",
   "language": "python",
   "name": "python3"
  },
  "language_info": {
   "codemirror_mode": {
    "name": "ipython",
    "version": 3
   },
   "file_extension": ".py",
   "mimetype": "text/x-python",
   "name": "python",
   "nbconvert_exporter": "python",
   "pygments_lexer": "ipython3",
   "version": "3.9.6"
  }
 },
 "nbformat": 4,
 "nbformat_minor": 5
}
