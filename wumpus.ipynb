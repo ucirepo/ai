{
 "cells": [
  {
   "cell_type": "code",
   "execution_count": 2,
   "id": "fe54c2b3-80f2-4224-8878-5b9ba77698f1",
   "metadata": {},
   "outputs": [
    {
     "name": "stdout",
     "output_type": "stream",
     "text": [
      "YOU ___ PIT GLD\n",
      "___ ___ ___ ___\n",
      "___ ___ ___ ___\n",
      "WUM ___ ___ PIT\n"
     ]
    },
    {
     "name": "stdin",
     "output_type": "stream",
     "text": [
      "Enter action (move up/down/left/right, or shoot up/down/left/right):  right\n"
     ]
    },
    {
     "name": "stdout",
     "output_type": "stream",
     "text": [
      "___ YOU PIT GLD\n",
      "___ ___ ___ ___\n",
      "___ ___ ___ ___\n",
      "WUM ___ ___ PIT\n",
      "You feel a breeze nearby. Pit is close.\n"
     ]
    },
    {
     "name": "stdin",
     "output_type": "stream",
     "text": [
      "Enter action (move up/down/left/right, or shoot up/down/left/right):  down\n"
     ]
    },
    {
     "name": "stdout",
     "output_type": "stream",
     "text": [
      "___ ___ PIT GLD\n",
      "___ YOU ___ ___\n",
      "___ ___ ___ ___\n",
      "WUM ___ ___ PIT\n"
     ]
    },
    {
     "name": "stdin",
     "output_type": "stream",
     "text": [
      "Enter action (move up/down/left/right, or shoot up/down/left/right):  right\n"
     ]
    },
    {
     "name": "stdout",
     "output_type": "stream",
     "text": [
      "___ ___ PIT GLD\n",
      "___ ___ YOU ___\n",
      "___ ___ ___ ___\n",
      "WUM ___ ___ PIT\n",
      "You feel a breeze nearby. Pit is close.\n"
     ]
    },
    {
     "name": "stdin",
     "output_type": "stream",
     "text": [
      "Enter action (move up/down/left/right, or shoot up/down/left/right):  right\n"
     ]
    },
    {
     "name": "stdout",
     "output_type": "stream",
     "text": [
      "___ ___ PIT GLD\n",
      "___ ___ ___ YOU\n",
      "___ ___ ___ ___\n",
      "WUM ___ ___ PIT\n"
     ]
    },
    {
     "name": "stdin",
     "output_type": "stream",
     "text": [
      "Enter action (move up/down/left/right, or shoot up/down/left/right):  up\n"
     ]
    },
    {
     "name": "stdout",
     "output_type": "stream",
     "text": [
      "You found the gold. You win.\n"
     ]
    }
   ],
   "source": [
    "import random\n",
    "\n",
    "class WumpusWorld:\n",
    "    def __init__(self, size=4):\n",
    "        self.size = size\n",
    "        self.grid = [['___' for _ in range(size)] for _ in range(size)]\n",
    "        self.place_objects()\n",
    "        self.player = (0, 0)  \n",
    "        self.arrows = 1  \n",
    "\n",
    "    def place_objects(self):\n",
    "        locations = random.sample([(i, j) for i in range(self.size) for j in range(self.size)], 4)\n",
    "        self.wumpus, self.gold, self.pit1, self.pit2 = locations\n",
    "        self.grid[self.wumpus[0]][self.wumpus[1]] = 'WUM'\n",
    "        self.grid[self.gold[0]][self.gold[1]] = 'GLD'\n",
    "        self.grid[self.pit1[0]][self.pit1[1]] = 'PIT'  \n",
    "        self.grid[self.pit2[0]][self.pit2[1]] = 'PIT'  \n",
    "\n",
    "    def sense_danger(self, position):\n",
    "        x, y = position\n",
    "        warnings = []\n",
    "        adjacent = [(x-1, y), (x+1, y), (x, y-1), (x, y+1)]\n",
    "\n",
    "        for adj in adjacent:\n",
    "            if adj == self.wumpus:\n",
    "                warnings.append(\"You smell a stench nearby. Wumpus is close.\")\n",
    "            if adj in [self.pit1, self.pit2]:\n",
    "                warnings.append(\"You feel a breeze nearby. Pit is close.\")\n",
    "\n",
    "        return warnings\n",
    "\n",
    "    def move_player(self, direction):\n",
    "        x, y = self.player\n",
    "        if direction == \"up\" and x > 0:\n",
    "            self.player = (x-1, y)\n",
    "        elif direction == \"down\" and x < self.size - 1:\n",
    "            self.player = (x+1, y)\n",
    "        elif direction == \"left\" and y > 0:\n",
    "            self.player = (x, y-1)\n",
    "        elif direction == \"right\" and y < self.size - 1:\n",
    "            self.player = (x, y+1)\n",
    "        else:\n",
    "            print(\"Invalid move. Try again.\")\n",
    "\n",
    "        return self.check_status()\n",
    "\n",
    "    def shoot_arrow(self, direction):\n",
    "        if self.arrows == 0:\n",
    "            print(\"No arrows left.\")\n",
    "            return False\n",
    "\n",
    "        x, y = self.player\n",
    "        if direction == \"up\":\n",
    "            target = (x-1, y)\n",
    "        elif direction == \"down\":\n",
    "            target = (x+1, y)\n",
    "        elif direction == \"left\":\n",
    "            target = (x, y-1)\n",
    "        elif direction == \"right\":\n",
    "            target = (x, y+1)\n",
    "        else:\n",
    "            print(\"Invalid direction. Try again.\")\n",
    "            return False\n",
    "\n",
    "        self.arrows -= 1  \n",
    "        if target == self.wumpus:\n",
    "            print(\"You killed the Wumpus. You win.\")\n",
    "            return True\n",
    "        else:\n",
    "            print(\"Your arrow missed.\")\n",
    "            return False\n",
    "\n",
    "    def check_status(self):\n",
    "        if self.player == self.gold:\n",
    "            print(\"You found the gold. You win.\")\n",
    "            return True\n",
    "\n",
    "        elif self.player == self.wumpus:\n",
    "            print(\"The Wumpus got you. Game over.\")\n",
    "            return True\n",
    "\n",
    "        elif self.player in [self.pit1, self.pit2]:\n",
    "            print(\"You fell into a pit. Game over.\")\n",
    "            return True\n",
    "\n",
    "        return False\n",
    "\n",
    "    def display_grid(self):\n",
    "        temp_grid = [row[:] for row in self.grid]\n",
    "        x, y = self.player\n",
    "        temp_grid[x][y] = \"YOU\"  \n",
    "        for row in temp_grid:\n",
    "            print(\" \".join(row))\n",
    "\n",
    "game = WumpusWorld()\n",
    "\n",
    "while True:\n",
    "    game.display_grid()\n",
    "    warnings = game.sense_danger(game.player)\n",
    "    for warning in warnings:\n",
    "        print(warning)\n",
    "\n",
    "    action = input(\"Enter action (move up/down/left/right, or shoot up/down/left/right): \").strip().lower()\n",
    "    if action.startswith(\"shoot\"):\n",
    "        _, direction = action.split()\n",
    "        if game.shoot_arrow(direction):\n",
    "            break  \n",
    "    else:\n",
    "        if game.move_player(action):\n",
    "            break  "
   ]
  },
  {
   "cell_type": "code",
   "execution_count": null,
   "id": "de7b4f05-6827-426e-800d-f965a5a72a56",
   "metadata": {},
   "outputs": [],
   "source": []
  }
 ],
 "metadata": {
  "kernelspec": {
   "display_name": "Python 3 (ipykernel)",
   "language": "python",
   "name": "python3"
  },
  "language_info": {
   "codemirror_mode": {
    "name": "ipython",
    "version": 3
   },
   "file_extension": ".py",
   "mimetype": "text/x-python",
   "name": "python",
   "nbconvert_exporter": "python",
   "pygments_lexer": "ipython3",
   "version": "3.12.7"
  }
 },
 "nbformat": 4,
 "nbformat_minor": 5
}
