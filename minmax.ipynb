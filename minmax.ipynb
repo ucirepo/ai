{
 "cells": [
  {
   "cell_type": "code",
   "execution_count": 1,
   "id": "08a76c61-19a8-47ae-b8dd-370b154e7981",
   "metadata": {},
   "outputs": [
    {
     "name": "stdout",
     "output_type": "stream",
     "text": [
      "The optimal value is:10\n"
     ]
    }
   ],
   "source": [
    "#min-max\n",
    "import math \n",
    "import sys\n",
    "sys.setrecursionlimit(10000)\n",
    "\n",
    "def minimax(curDepth, nodeIndex, maxTurn, scores, targetDepth) : \n",
    "    if curDepth == targetDepth:\n",
    "        return scores[nodeIndex]\n",
    "\n",
    "    if maxTurn:\n",
    "        return max(minimax(curDepth + 1, nodeIndex * 2, False, scores, targetDepth),\n",
    "            minimax(curDepth + 1, nodeIndex * 2 + 1, False, scores, targetDepth))\n",
    "    else:\n",
    "        return min(minimax(curDepth + 1, nodeIndex * 2, True, scores, targetDepth), \n",
    "                   minimax(curDepth + 1, nodeIndex * 2 + 1, True, scores, targetDepth))\n",
    "\n",
    "\n",
    "scores = [10, 9, 14, 18, 5, 4, 50, 3]\n",
    "treeDepth = int(math.log(len(scores), 2))\n",
    "\n",
    "print('The optimal value is:', end='') \n",
    "print(minimax(0, 0, True, scores, treeDepth))\n"
   ]
  },
  {
   "cell_type": "code",
   "execution_count": 2,
   "id": "424685f0-4009-4096-8f79-63b1bf41af74",
   "metadata": {},
   "outputs": [
    {
     "name": "stdout",
     "output_type": "stream",
     "text": [
      "The optimal value is :  10\n"
     ]
    }
   ],
   "source": [
    "#alpha beta pruning :\n",
    "MAX , MIN =1000 , -1000\n",
    "\n",
    "def minimax(depth , nodeIndex , maximizingPlayer , values , alpha , beta):\n",
    "  if depth == 3:\n",
    "    return values[nodeIndex]\n",
    "  if maximizingPlayer:\n",
    "    best = MIN\n",
    "    for i in range(0,2):\n",
    "      val = minimax(depth + 1 , nodeIndex * 2 + i , False , values , alpha , beta)\n",
    "      best = max(best , val)\n",
    "      alpha = max(alpha , best)\n",
    "      if beta <= alpha:\n",
    "        break\n",
    "    return best\n",
    "  else:\n",
    "    best = MAX\n",
    "    for i in range(0,2):\n",
    "      val = minimax(depth + 1 , nodeIndex * 2 + i , True , values , alpha , beta)\n",
    "      best = min(best , val)\n",
    "      beta = min(beta , best)\n",
    "      if beta <= alpha:\n",
    "        break\n",
    "    return best   \n",
    "\n",
    "if __name__ == \"__main__\":\n",
    "  values = [10,9,14,18,5,4,50,3]\n",
    "  print(\"The optimal value is : \",minimax(0 , 0 , True , values , MIN , MAX))\n"
   ]
  },
  {
   "cell_type": "code",
   "execution_count": null,
   "id": "05f15b49-e8cb-400e-9afa-3c3540b86dce",
   "metadata": {},
   "outputs": [
    {
     "name": "stdout",
     "output_type": "stream",
     "text": [
      " |  | \n",
      "-------\n",
      " |  | \n",
      "-------\n",
      " |  | \n",
      "-------\n"
     ]
    }
   ],
   "source": [
    "#tic-tac-toe\n",
    "def print_board(board):\n",
    "  for row in board:\n",
    "    print(\" | \".join(row))\n",
    "    print(\"-\" * 7)\n",
    "\n",
    "def check_winner(board):\n",
    "  for row in board:\n",
    "    if row.count(row[0]) == len(row) and row[0]!='':\n",
    "      return True\n",
    "  for col in range(len(board[0])):\n",
    "    if board[0][col] == board[1][col] == board[2][col]!='':\n",
    "      return True\n",
    "\n",
    "  if board[0][0]==board[1][1]==board[2][2]!='':\n",
    "    return True\n",
    "  if board[0][2]==board[1][1]==board[2][0]!='':\n",
    "    return True\n",
    "\n",
    "  return False\n",
    "\n",
    "def tic_tac_toe():\n",
    "  board = [['' for _ in range(3)] for _ in range(3)]\n",
    "  player='X'\n",
    "\n",
    "\n",
    "  while True:\n",
    "    print_board(board)\n",
    "    row=int(input(f\"Player {player}, enter the row (0,1,2):\"))\n",
    "    col=int(input(f\"Player {player}, enter the column (0,1,2):\"))\n",
    "\n",
    "    if board[row][col]=='':\n",
    "      board[row][col]=player\n",
    "      if check_winner(board):\n",
    "        print_board(board)\n",
    "        print(f\"Player {player} wins!\")\n",
    "        break\n",
    "\n",
    "      elif all(board[i][j] != '' for i in range(3) for j in range(3)):\n",
    "        print_board(board)\n",
    "        print(\"It's a tie!\")\n",
    "        break\n",
    "      else:\n",
    "        player='O' if player=='X' else 'X'\n",
    "\n",
    "    else:\n",
    "      print(\"That spot is already taken!\")\n",
    "\n",
    "if __name__ == \"__main__\":\n",
    "  tic_tac_toe()\n",
    "\n"
   ]
  },
  {
   "cell_type": "code",
   "execution_count": null,
   "id": "8b9557a8-d00a-4d21-b538-6495100d00a7",
   "metadata": {},
   "outputs": [],
   "source": []
  }
 ],
 "metadata": {
  "kernelspec": {
   "display_name": "Python 3 (ipykernel)",
   "language": "python",
   "name": "python3"
  },
  "language_info": {
   "codemirror_mode": {
    "name": "ipython",
    "version": 3
   },
   "file_extension": ".py",
   "mimetype": "text/x-python",
   "name": "python",
   "nbconvert_exporter": "python",
   "pygments_lexer": "ipython3",
   "version": "3.12.7"
  }
 },
 "nbformat": 4,
 "nbformat_minor": 5
}
